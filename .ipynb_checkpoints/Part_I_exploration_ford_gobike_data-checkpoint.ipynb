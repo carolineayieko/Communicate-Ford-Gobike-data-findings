{
 "cells": [
  {
   "cell_type": "markdown",
   "metadata": {},
   "source": [
    "# Part I - Exploration of Fordgobike 2019 data\n",
    "## by Caroline Ayieko\n",
    "\n",
    "## Introduction\n",
    "> -  This dataset includes information about individual rides made in a bike-sharing system covering the greater San Francisco Bay area.  \n",
    ">-  The dataset has 183412 values and  16 variables . The variables in the dataset include: `duration_sec`\t`start_time`\t`end_time`\t`start_station_id`\t`start_station_name`\t`start_station_latitude`\t`start_station_longitude`\t`end_station_id`\t`end_station_name`\t`end_station_latitude`\t`end_station_longitude`\t`bike_id`\t`user_type`\t`member_birth_year`\t`member_gender`\t`bike_share_for_all_trip`\n",
    "- "
   ]
  },
  {
   "cell_type": "markdown",
   "metadata": {},
   "source": [
    "\n",
    "## Preliminary Wrangling"
   ]
  },
  {
   "cell_type": "code",
   "execution_count": 1,
   "metadata": {},
   "outputs": [],
   "source": [
    "# import all packages and set plots to be embedded inline\n",
    "import numpy as np\n",
    "import pandas as pd\n",
    "import matplotlib.pyplot as plt\n",
    "import seaborn as sb\n",
    "import time\n",
    "import datetime\n",
    "import calendar\n",
    "import warnings\n",
    "\n",
    "%matplotlib inline\n",
    "\n",
    "#suppress warnings from final output\n",
    "warnings.simplefilter(\"ignore\")"
   ]
  },
  {
   "cell_type": "markdown",
   "metadata": {},
   "source": [
    "> Load in your dataset and describe its properties through the questions below. Try and motivate your exploration goals through this section.\n"
   ]
  },
  {
   "cell_type": "code",
   "execution_count": 2,
   "metadata": {},
   "outputs": [],
   "source": [
    "#load dataset\n",
    "df = pd.read_csv('201902-fordgobike-tripdata.csv')"
   ]
  },
  {
   "cell_type": "code",
   "execution_count": 3,
   "metadata": {},
   "outputs": [
    {
     "data": {
      "text/html": [
       "<div>\n",
       "<style scoped>\n",
       "    .dataframe tbody tr th:only-of-type {\n",
       "        vertical-align: middle;\n",
       "    }\n",
       "\n",
       "    .dataframe tbody tr th {\n",
       "        vertical-align: top;\n",
       "    }\n",
       "\n",
       "    .dataframe thead th {\n",
       "        text-align: right;\n",
       "    }\n",
       "</style>\n",
       "<table border=\"1\" class=\"dataframe\">\n",
       "  <thead>\n",
       "    <tr style=\"text-align: right;\">\n",
       "      <th></th>\n",
       "      <th>duration_sec</th>\n",
       "      <th>start_time</th>\n",
       "      <th>end_time</th>\n",
       "      <th>start_station_id</th>\n",
       "      <th>start_station_name</th>\n",
       "      <th>start_station_latitude</th>\n",
       "      <th>start_station_longitude</th>\n",
       "      <th>end_station_id</th>\n",
       "      <th>end_station_name</th>\n",
       "      <th>end_station_latitude</th>\n",
       "      <th>end_station_longitude</th>\n",
       "      <th>bike_id</th>\n",
       "      <th>user_type</th>\n",
       "      <th>member_birth_year</th>\n",
       "      <th>member_gender</th>\n",
       "      <th>bike_share_for_all_trip</th>\n",
       "    </tr>\n",
       "  </thead>\n",
       "  <tbody>\n",
       "    <tr>\n",
       "      <th>0</th>\n",
       "      <td>52185</td>\n",
       "      <td>2019-02-28 17:32:10.1450</td>\n",
       "      <td>2019-03-01 08:01:55.9750</td>\n",
       "      <td>21.0</td>\n",
       "      <td>Montgomery St BART Station (Market St at 2nd St)</td>\n",
       "      <td>37.789625</td>\n",
       "      <td>-122.400811</td>\n",
       "      <td>13.0</td>\n",
       "      <td>Commercial St at Montgomery St</td>\n",
       "      <td>37.794231</td>\n",
       "      <td>-122.402923</td>\n",
       "      <td>4902</td>\n",
       "      <td>Customer</td>\n",
       "      <td>1984.0</td>\n",
       "      <td>Male</td>\n",
       "      <td>No</td>\n",
       "    </tr>\n",
       "    <tr>\n",
       "      <th>1</th>\n",
       "      <td>42521</td>\n",
       "      <td>2019-02-28 18:53:21.7890</td>\n",
       "      <td>2019-03-01 06:42:03.0560</td>\n",
       "      <td>23.0</td>\n",
       "      <td>The Embarcadero at Steuart St</td>\n",
       "      <td>37.791464</td>\n",
       "      <td>-122.391034</td>\n",
       "      <td>81.0</td>\n",
       "      <td>Berry St at 4th St</td>\n",
       "      <td>37.775880</td>\n",
       "      <td>-122.393170</td>\n",
       "      <td>2535</td>\n",
       "      <td>Customer</td>\n",
       "      <td>NaN</td>\n",
       "      <td>NaN</td>\n",
       "      <td>No</td>\n",
       "    </tr>\n",
       "    <tr>\n",
       "      <th>2</th>\n",
       "      <td>61854</td>\n",
       "      <td>2019-02-28 12:13:13.2180</td>\n",
       "      <td>2019-03-01 05:24:08.1460</td>\n",
       "      <td>86.0</td>\n",
       "      <td>Market St at Dolores St</td>\n",
       "      <td>37.769305</td>\n",
       "      <td>-122.426826</td>\n",
       "      <td>3.0</td>\n",
       "      <td>Powell St BART Station (Market St at 4th St)</td>\n",
       "      <td>37.786375</td>\n",
       "      <td>-122.404904</td>\n",
       "      <td>5905</td>\n",
       "      <td>Customer</td>\n",
       "      <td>1972.0</td>\n",
       "      <td>Male</td>\n",
       "      <td>No</td>\n",
       "    </tr>\n",
       "    <tr>\n",
       "      <th>3</th>\n",
       "      <td>36490</td>\n",
       "      <td>2019-02-28 17:54:26.0100</td>\n",
       "      <td>2019-03-01 04:02:36.8420</td>\n",
       "      <td>375.0</td>\n",
       "      <td>Grove St at Masonic Ave</td>\n",
       "      <td>37.774836</td>\n",
       "      <td>-122.446546</td>\n",
       "      <td>70.0</td>\n",
       "      <td>Central Ave at Fell St</td>\n",
       "      <td>37.773311</td>\n",
       "      <td>-122.444293</td>\n",
       "      <td>6638</td>\n",
       "      <td>Subscriber</td>\n",
       "      <td>1989.0</td>\n",
       "      <td>Other</td>\n",
       "      <td>No</td>\n",
       "    </tr>\n",
       "    <tr>\n",
       "      <th>4</th>\n",
       "      <td>1585</td>\n",
       "      <td>2019-02-28 23:54:18.5490</td>\n",
       "      <td>2019-03-01 00:20:44.0740</td>\n",
       "      <td>7.0</td>\n",
       "      <td>Frank H Ogawa Plaza</td>\n",
       "      <td>37.804562</td>\n",
       "      <td>-122.271738</td>\n",
       "      <td>222.0</td>\n",
       "      <td>10th Ave at E 15th St</td>\n",
       "      <td>37.792714</td>\n",
       "      <td>-122.248780</td>\n",
       "      <td>4898</td>\n",
       "      <td>Subscriber</td>\n",
       "      <td>1974.0</td>\n",
       "      <td>Male</td>\n",
       "      <td>Yes</td>\n",
       "    </tr>\n",
       "  </tbody>\n",
       "</table>\n",
       "</div>"
      ],
      "text/plain": [
       "   duration_sec                start_time                  end_time  \\\n",
       "0         52185  2019-02-28 17:32:10.1450  2019-03-01 08:01:55.9750   \n",
       "1         42521  2019-02-28 18:53:21.7890  2019-03-01 06:42:03.0560   \n",
       "2         61854  2019-02-28 12:13:13.2180  2019-03-01 05:24:08.1460   \n",
       "3         36490  2019-02-28 17:54:26.0100  2019-03-01 04:02:36.8420   \n",
       "4          1585  2019-02-28 23:54:18.5490  2019-03-01 00:20:44.0740   \n",
       "\n",
       "   start_station_id                                start_station_name  \\\n",
       "0              21.0  Montgomery St BART Station (Market St at 2nd St)   \n",
       "1              23.0                     The Embarcadero at Steuart St   \n",
       "2              86.0                           Market St at Dolores St   \n",
       "3             375.0                           Grove St at Masonic Ave   \n",
       "4               7.0                               Frank H Ogawa Plaza   \n",
       "\n",
       "   start_station_latitude  start_station_longitude  end_station_id  \\\n",
       "0               37.789625              -122.400811            13.0   \n",
       "1               37.791464              -122.391034            81.0   \n",
       "2               37.769305              -122.426826             3.0   \n",
       "3               37.774836              -122.446546            70.0   \n",
       "4               37.804562              -122.271738           222.0   \n",
       "\n",
       "                               end_station_name  end_station_latitude  \\\n",
       "0                Commercial St at Montgomery St             37.794231   \n",
       "1                            Berry St at 4th St             37.775880   \n",
       "2  Powell St BART Station (Market St at 4th St)             37.786375   \n",
       "3                        Central Ave at Fell St             37.773311   \n",
       "4                         10th Ave at E 15th St             37.792714   \n",
       "\n",
       "   end_station_longitude  bike_id   user_type  member_birth_year  \\\n",
       "0            -122.402923     4902    Customer             1984.0   \n",
       "1            -122.393170     2535    Customer                NaN   \n",
       "2            -122.404904     5905    Customer             1972.0   \n",
       "3            -122.444293     6638  Subscriber             1989.0   \n",
       "4            -122.248780     4898  Subscriber             1974.0   \n",
       "\n",
       "  member_gender bike_share_for_all_trip  \n",
       "0          Male                      No  \n",
       "1           NaN                      No  \n",
       "2          Male                      No  \n",
       "3         Other                      No  \n",
       "4          Male                     Yes  "
      ]
     },
     "execution_count": 3,
     "metadata": {},
     "output_type": "execute_result"
    }
   ],
   "source": [
    "#checking top 5 rows \n",
    "df.head()"
   ]
  },
  {
   "cell_type": "code",
   "execution_count": 4,
   "metadata": {},
   "outputs": [
    {
     "data": {
      "text/html": [
       "<div>\n",
       "<style scoped>\n",
       "    .dataframe tbody tr th:only-of-type {\n",
       "        vertical-align: middle;\n",
       "    }\n",
       "\n",
       "    .dataframe tbody tr th {\n",
       "        vertical-align: top;\n",
       "    }\n",
       "\n",
       "    .dataframe thead th {\n",
       "        text-align: right;\n",
       "    }\n",
       "</style>\n",
       "<table border=\"1\" class=\"dataframe\">\n",
       "  <thead>\n",
       "    <tr style=\"text-align: right;\">\n",
       "      <th></th>\n",
       "      <th>duration_sec</th>\n",
       "      <th>start_time</th>\n",
       "      <th>end_time</th>\n",
       "      <th>start_station_id</th>\n",
       "      <th>start_station_name</th>\n",
       "      <th>start_station_latitude</th>\n",
       "      <th>start_station_longitude</th>\n",
       "      <th>end_station_id</th>\n",
       "      <th>end_station_name</th>\n",
       "      <th>end_station_latitude</th>\n",
       "      <th>end_station_longitude</th>\n",
       "      <th>bike_id</th>\n",
       "      <th>user_type</th>\n",
       "      <th>member_birth_year</th>\n",
       "      <th>member_gender</th>\n",
       "      <th>bike_share_for_all_trip</th>\n",
       "    </tr>\n",
       "  </thead>\n",
       "  <tbody>\n",
       "    <tr>\n",
       "      <th>183407</th>\n",
       "      <td>480</td>\n",
       "      <td>2019-02-01 00:04:49.7240</td>\n",
       "      <td>2019-02-01 00:12:50.0340</td>\n",
       "      <td>27.0</td>\n",
       "      <td>Beale St at Harrison St</td>\n",
       "      <td>37.788059</td>\n",
       "      <td>-122.391865</td>\n",
       "      <td>324.0</td>\n",
       "      <td>Union Square (Powell St at Post St)</td>\n",
       "      <td>37.788300</td>\n",
       "      <td>-122.408531</td>\n",
       "      <td>4832</td>\n",
       "      <td>Subscriber</td>\n",
       "      <td>1996.0</td>\n",
       "      <td>Male</td>\n",
       "      <td>No</td>\n",
       "    </tr>\n",
       "    <tr>\n",
       "      <th>183408</th>\n",
       "      <td>313</td>\n",
       "      <td>2019-02-01 00:05:34.7440</td>\n",
       "      <td>2019-02-01 00:10:48.5020</td>\n",
       "      <td>21.0</td>\n",
       "      <td>Montgomery St BART Station (Market St at 2nd St)</td>\n",
       "      <td>37.789625</td>\n",
       "      <td>-122.400811</td>\n",
       "      <td>66.0</td>\n",
       "      <td>3rd St at Townsend St</td>\n",
       "      <td>37.778742</td>\n",
       "      <td>-122.392741</td>\n",
       "      <td>4960</td>\n",
       "      <td>Subscriber</td>\n",
       "      <td>1984.0</td>\n",
       "      <td>Male</td>\n",
       "      <td>No</td>\n",
       "    </tr>\n",
       "    <tr>\n",
       "      <th>183409</th>\n",
       "      <td>141</td>\n",
       "      <td>2019-02-01 00:06:05.5490</td>\n",
       "      <td>2019-02-01 00:08:27.2200</td>\n",
       "      <td>278.0</td>\n",
       "      <td>The Alameda at Bush St</td>\n",
       "      <td>37.331932</td>\n",
       "      <td>-121.904888</td>\n",
       "      <td>277.0</td>\n",
       "      <td>Morrison Ave at Julian St</td>\n",
       "      <td>37.333658</td>\n",
       "      <td>-121.908586</td>\n",
       "      <td>3824</td>\n",
       "      <td>Subscriber</td>\n",
       "      <td>1990.0</td>\n",
       "      <td>Male</td>\n",
       "      <td>Yes</td>\n",
       "    </tr>\n",
       "    <tr>\n",
       "      <th>183410</th>\n",
       "      <td>139</td>\n",
       "      <td>2019-02-01 00:05:34.3600</td>\n",
       "      <td>2019-02-01 00:07:54.2870</td>\n",
       "      <td>220.0</td>\n",
       "      <td>San Pablo Ave at MLK Jr Way</td>\n",
       "      <td>37.811351</td>\n",
       "      <td>-122.273422</td>\n",
       "      <td>216.0</td>\n",
       "      <td>San Pablo Ave at 27th St</td>\n",
       "      <td>37.817827</td>\n",
       "      <td>-122.275698</td>\n",
       "      <td>5095</td>\n",
       "      <td>Subscriber</td>\n",
       "      <td>1988.0</td>\n",
       "      <td>Male</td>\n",
       "      <td>No</td>\n",
       "    </tr>\n",
       "    <tr>\n",
       "      <th>183411</th>\n",
       "      <td>271</td>\n",
       "      <td>2019-02-01 00:00:20.6360</td>\n",
       "      <td>2019-02-01 00:04:52.0580</td>\n",
       "      <td>24.0</td>\n",
       "      <td>Spear St at Folsom St</td>\n",
       "      <td>37.789677</td>\n",
       "      <td>-122.390428</td>\n",
       "      <td>37.0</td>\n",
       "      <td>2nd St at Folsom St</td>\n",
       "      <td>37.785000</td>\n",
       "      <td>-122.395936</td>\n",
       "      <td>1057</td>\n",
       "      <td>Subscriber</td>\n",
       "      <td>1989.0</td>\n",
       "      <td>Male</td>\n",
       "      <td>No</td>\n",
       "    </tr>\n",
       "  </tbody>\n",
       "</table>\n",
       "</div>"
      ],
      "text/plain": [
       "        duration_sec                start_time                  end_time  \\\n",
       "183407           480  2019-02-01 00:04:49.7240  2019-02-01 00:12:50.0340   \n",
       "183408           313  2019-02-01 00:05:34.7440  2019-02-01 00:10:48.5020   \n",
       "183409           141  2019-02-01 00:06:05.5490  2019-02-01 00:08:27.2200   \n",
       "183410           139  2019-02-01 00:05:34.3600  2019-02-01 00:07:54.2870   \n",
       "183411           271  2019-02-01 00:00:20.6360  2019-02-01 00:04:52.0580   \n",
       "\n",
       "        start_station_id                                start_station_name  \\\n",
       "183407              27.0                           Beale St at Harrison St   \n",
       "183408              21.0  Montgomery St BART Station (Market St at 2nd St)   \n",
       "183409             278.0                            The Alameda at Bush St   \n",
       "183410             220.0                       San Pablo Ave at MLK Jr Way   \n",
       "183411              24.0                             Spear St at Folsom St   \n",
       "\n",
       "        start_station_latitude  start_station_longitude  end_station_id  \\\n",
       "183407               37.788059              -122.391865           324.0   \n",
       "183408               37.789625              -122.400811            66.0   \n",
       "183409               37.331932              -121.904888           277.0   \n",
       "183410               37.811351              -122.273422           216.0   \n",
       "183411               37.789677              -122.390428            37.0   \n",
       "\n",
       "                           end_station_name  end_station_latitude  \\\n",
       "183407  Union Square (Powell St at Post St)             37.788300   \n",
       "183408                3rd St at Townsend St             37.778742   \n",
       "183409            Morrison Ave at Julian St             37.333658   \n",
       "183410             San Pablo Ave at 27th St             37.817827   \n",
       "183411                  2nd St at Folsom St             37.785000   \n",
       "\n",
       "        end_station_longitude  bike_id   user_type  member_birth_year  \\\n",
       "183407            -122.408531     4832  Subscriber             1996.0   \n",
       "183408            -122.392741     4960  Subscriber             1984.0   \n",
       "183409            -121.908586     3824  Subscriber             1990.0   \n",
       "183410            -122.275698     5095  Subscriber             1988.0   \n",
       "183411            -122.395936     1057  Subscriber             1989.0   \n",
       "\n",
       "       member_gender bike_share_for_all_trip  \n",
       "183407          Male                      No  \n",
       "183408          Male                      No  \n",
       "183409          Male                     Yes  \n",
       "183410          Male                      No  \n",
       "183411          Male                      No  "
      ]
     },
     "execution_count": 4,
     "metadata": {},
     "output_type": "execute_result"
    }
   ],
   "source": [
    "#checkin the last 5 rows\n",
    "df.tail()"
   ]
  },
  {
   "cell_type": "code",
   "execution_count": 5,
   "metadata": {},
   "outputs": [
    {
     "data": {
      "text/plain": [
       "(183412, 16)"
      ]
     },
     "execution_count": 5,
     "metadata": {},
     "output_type": "execute_result"
    }
   ],
   "source": [
    "#number of rows and columns\n",
    "df.shape"
   ]
  },
  {
   "cell_type": "code",
   "execution_count": 6,
   "metadata": {},
   "outputs": [
    {
     "name": "stdout",
     "output_type": "stream",
     "text": [
      "<class 'pandas.core.frame.DataFrame'>\n",
      "RangeIndex: 183412 entries, 0 to 183411\n",
      "Data columns (total 16 columns):\n",
      " #   Column                   Non-Null Count   Dtype  \n",
      "---  ------                   --------------   -----  \n",
      " 0   duration_sec             183412 non-null  int64  \n",
      " 1   start_time               183412 non-null  object \n",
      " 2   end_time                 183412 non-null  object \n",
      " 3   start_station_id         183215 non-null  float64\n",
      " 4   start_station_name       183215 non-null  object \n",
      " 5   start_station_latitude   183412 non-null  float64\n",
      " 6   start_station_longitude  183412 non-null  float64\n",
      " 7   end_station_id           183215 non-null  float64\n",
      " 8   end_station_name         183215 non-null  object \n",
      " 9   end_station_latitude     183412 non-null  float64\n",
      " 10  end_station_longitude    183412 non-null  float64\n",
      " 11  bike_id                  183412 non-null  int64  \n",
      " 12  user_type                183412 non-null  object \n",
      " 13  member_birth_year        175147 non-null  float64\n",
      " 14  member_gender            175147 non-null  object \n",
      " 15  bike_share_for_all_trip  183412 non-null  object \n",
      "dtypes: float64(7), int64(2), object(7)\n",
      "memory usage: 22.4+ MB\n"
     ]
    }
   ],
   "source": [
    "#print concise summary of the dataframe\n",
    "#getting variable data types, number of rows and columns and full name of variables\n",
    "df.info()"
   ]
  },
  {
   "cell_type": "markdown",
   "metadata": {},
   "source": [
    "> The time data types: `start_time` and `end_time` should be datetimestamp data types\n",
    "> `start_station_id`, `end_station_id` and `bike_id` should be str data type\n",
    "> `member_birth_year` sould be int data type."
   ]
  },
  {
   "cell_type": "code",
   "execution_count": 7,
   "metadata": {},
   "outputs": [
    {
     "data": {
      "text/html": [
       "<div>\n",
       "<style scoped>\n",
       "    .dataframe tbody tr th:only-of-type {\n",
       "        vertical-align: middle;\n",
       "    }\n",
       "\n",
       "    .dataframe tbody tr th {\n",
       "        vertical-align: top;\n",
       "    }\n",
       "\n",
       "    .dataframe thead th {\n",
       "        text-align: right;\n",
       "    }\n",
       "</style>\n",
       "<table border=\"1\" class=\"dataframe\">\n",
       "  <thead>\n",
       "    <tr style=\"text-align: right;\">\n",
       "      <th></th>\n",
       "      <th>duration_sec</th>\n",
       "      <th>start_time</th>\n",
       "      <th>end_time</th>\n",
       "      <th>start_station_id</th>\n",
       "      <th>start_station_name</th>\n",
       "      <th>start_station_latitude</th>\n",
       "      <th>start_station_longitude</th>\n",
       "      <th>end_station_id</th>\n",
       "      <th>end_station_name</th>\n",
       "      <th>end_station_latitude</th>\n",
       "      <th>end_station_longitude</th>\n",
       "      <th>bike_id</th>\n",
       "      <th>user_type</th>\n",
       "      <th>member_birth_year</th>\n",
       "      <th>member_gender</th>\n",
       "      <th>bike_share_for_all_trip</th>\n",
       "    </tr>\n",
       "  </thead>\n",
       "  <tbody>\n",
       "    <tr>\n",
       "      <th>162911</th>\n",
       "      <td>725</td>\n",
       "      <td>2019-02-05 09:50:59.7080</td>\n",
       "      <td>2019-02-05 10:03:05.2980</td>\n",
       "      <td>381.0</td>\n",
       "      <td>20th St at Dolores St</td>\n",
       "      <td>37.758238</td>\n",
       "      <td>-122.426094</td>\n",
       "      <td>114.0</td>\n",
       "      <td>Rhode Island St at 17th St</td>\n",
       "      <td>37.764478</td>\n",
       "      <td>-122.402570</td>\n",
       "      <td>5334</td>\n",
       "      <td>Subscriber</td>\n",
       "      <td>1975.0</td>\n",
       "      <td>Male</td>\n",
       "      <td>No</td>\n",
       "    </tr>\n",
       "    <tr>\n",
       "      <th>79537</th>\n",
       "      <td>228</td>\n",
       "      <td>2019-02-18 17:28:57.3260</td>\n",
       "      <td>2019-02-18 17:32:45.8450</td>\n",
       "      <td>248.0</td>\n",
       "      <td>Telegraph Ave at Ashby Ave</td>\n",
       "      <td>37.855956</td>\n",
       "      <td>-122.259795</td>\n",
       "      <td>274.0</td>\n",
       "      <td>Oregon St at Adeline St</td>\n",
       "      <td>37.857567</td>\n",
       "      <td>-122.267558</td>\n",
       "      <td>4828</td>\n",
       "      <td>Subscriber</td>\n",
       "      <td>1998.0</td>\n",
       "      <td>Male</td>\n",
       "      <td>No</td>\n",
       "    </tr>\n",
       "    <tr>\n",
       "      <th>49704</th>\n",
       "      <td>233</td>\n",
       "      <td>2019-02-21 20:49:42.7580</td>\n",
       "      <td>2019-02-21 20:53:36.2510</td>\n",
       "      <td>95.0</td>\n",
       "      <td>Sanchez St at 15th St</td>\n",
       "      <td>37.766219</td>\n",
       "      <td>-122.431060</td>\n",
       "      <td>72.0</td>\n",
       "      <td>Page St at Scott St</td>\n",
       "      <td>37.772406</td>\n",
       "      <td>-122.435650</td>\n",
       "      <td>5345</td>\n",
       "      <td>Subscriber</td>\n",
       "      <td>NaN</td>\n",
       "      <td>NaN</td>\n",
       "      <td>No</td>\n",
       "    </tr>\n",
       "    <tr>\n",
       "      <th>78565</th>\n",
       "      <td>2540</td>\n",
       "      <td>2019-02-18 18:37:47.5010</td>\n",
       "      <td>2019-02-18 19:20:07.5430</td>\n",
       "      <td>377.0</td>\n",
       "      <td>Fell St at Stanyan St</td>\n",
       "      <td>37.771917</td>\n",
       "      <td>-122.453704</td>\n",
       "      <td>355.0</td>\n",
       "      <td>23rd St at Tennessee St</td>\n",
       "      <td>37.755367</td>\n",
       "      <td>-122.388795</td>\n",
       "      <td>6420</td>\n",
       "      <td>Subscriber</td>\n",
       "      <td>1996.0</td>\n",
       "      <td>Male</td>\n",
       "      <td>No</td>\n",
       "    </tr>\n",
       "    <tr>\n",
       "      <th>174581</th>\n",
       "      <td>201</td>\n",
       "      <td>2019-02-02 17:36:49.0230</td>\n",
       "      <td>2019-02-02 17:40:10.1470</td>\n",
       "      <td>23.0</td>\n",
       "      <td>The Embarcadero at Steuart St</td>\n",
       "      <td>37.791464</td>\n",
       "      <td>-122.391034</td>\n",
       "      <td>24.0</td>\n",
       "      <td>Spear St at Folsom St</td>\n",
       "      <td>37.789677</td>\n",
       "      <td>-122.390428</td>\n",
       "      <td>449</td>\n",
       "      <td>Subscriber</td>\n",
       "      <td>1998.0</td>\n",
       "      <td>Male</td>\n",
       "      <td>No</td>\n",
       "    </tr>\n",
       "    <tr>\n",
       "      <th>148638</th>\n",
       "      <td>432</td>\n",
       "      <td>2019-02-06 21:14:06.6780</td>\n",
       "      <td>2019-02-06 21:21:19.2150</td>\n",
       "      <td>70.0</td>\n",
       "      <td>Central Ave at Fell St</td>\n",
       "      <td>37.773311</td>\n",
       "      <td>-122.444293</td>\n",
       "      <td>55.0</td>\n",
       "      <td>Webster St at Grove St</td>\n",
       "      <td>37.777053</td>\n",
       "      <td>-122.429558</td>\n",
       "      <td>5407</td>\n",
       "      <td>Subscriber</td>\n",
       "      <td>1994.0</td>\n",
       "      <td>Male</td>\n",
       "      <td>No</td>\n",
       "    </tr>\n",
       "    <tr>\n",
       "      <th>82087</th>\n",
       "      <td>716</td>\n",
       "      <td>2019-02-18 11:24:55.8240</td>\n",
       "      <td>2019-02-18 11:36:52.2020</td>\n",
       "      <td>58.0</td>\n",
       "      <td>Market St at 10th St</td>\n",
       "      <td>37.776619</td>\n",
       "      <td>-122.417385</td>\n",
       "      <td>27.0</td>\n",
       "      <td>Beale St at Harrison St</td>\n",
       "      <td>37.788059</td>\n",
       "      <td>-122.391865</td>\n",
       "      <td>5576</td>\n",
       "      <td>Subscriber</td>\n",
       "      <td>1997.0</td>\n",
       "      <td>Male</td>\n",
       "      <td>No</td>\n",
       "    </tr>\n",
       "    <tr>\n",
       "      <th>2455</th>\n",
       "      <td>1075</td>\n",
       "      <td>2019-02-28 17:54:45.3760</td>\n",
       "      <td>2019-02-28 18:12:41.2120</td>\n",
       "      <td>126.0</td>\n",
       "      <td>Esprit Park</td>\n",
       "      <td>37.761634</td>\n",
       "      <td>-122.390648</td>\n",
       "      <td>15.0</td>\n",
       "      <td>San Francisco Ferry Building (Harry Bridges Pl...</td>\n",
       "      <td>37.795392</td>\n",
       "      <td>-122.394203</td>\n",
       "      <td>6201</td>\n",
       "      <td>Customer</td>\n",
       "      <td>1993.0</td>\n",
       "      <td>Male</td>\n",
       "      <td>No</td>\n",
       "    </tr>\n",
       "    <tr>\n",
       "      <th>93594</th>\n",
       "      <td>488</td>\n",
       "      <td>2019-02-15 17:30:48.5980</td>\n",
       "      <td>2019-02-15 17:38:57.5350</td>\n",
       "      <td>109.0</td>\n",
       "      <td>17th St at Valencia St</td>\n",
       "      <td>37.763316</td>\n",
       "      <td>-122.421904</td>\n",
       "      <td>114.0</td>\n",
       "      <td>Rhode Island St at 17th St</td>\n",
       "      <td>37.764478</td>\n",
       "      <td>-122.402570</td>\n",
       "      <td>6430</td>\n",
       "      <td>Subscriber</td>\n",
       "      <td>NaN</td>\n",
       "      <td>NaN</td>\n",
       "      <td>No</td>\n",
       "    </tr>\n",
       "    <tr>\n",
       "      <th>117404</th>\n",
       "      <td>193</td>\n",
       "      <td>2019-02-11 22:04:38.8910</td>\n",
       "      <td>2019-02-11 22:07:52.5630</td>\n",
       "      <td>196.0</td>\n",
       "      <td>Grand Ave at Perkins St</td>\n",
       "      <td>37.808894</td>\n",
       "      <td>-122.256460</td>\n",
       "      <td>193.0</td>\n",
       "      <td>Grand Ave at Santa Clara Ave</td>\n",
       "      <td>37.812744</td>\n",
       "      <td>-122.247215</td>\n",
       "      <td>4863</td>\n",
       "      <td>Subscriber</td>\n",
       "      <td>1979.0</td>\n",
       "      <td>Male</td>\n",
       "      <td>No</td>\n",
       "    </tr>\n",
       "  </tbody>\n",
       "</table>\n",
       "</div>"
      ],
      "text/plain": [
       "        duration_sec                start_time                  end_time  \\\n",
       "162911           725  2019-02-05 09:50:59.7080  2019-02-05 10:03:05.2980   \n",
       "79537            228  2019-02-18 17:28:57.3260  2019-02-18 17:32:45.8450   \n",
       "49704            233  2019-02-21 20:49:42.7580  2019-02-21 20:53:36.2510   \n",
       "78565           2540  2019-02-18 18:37:47.5010  2019-02-18 19:20:07.5430   \n",
       "174581           201  2019-02-02 17:36:49.0230  2019-02-02 17:40:10.1470   \n",
       "148638           432  2019-02-06 21:14:06.6780  2019-02-06 21:21:19.2150   \n",
       "82087            716  2019-02-18 11:24:55.8240  2019-02-18 11:36:52.2020   \n",
       "2455            1075  2019-02-28 17:54:45.3760  2019-02-28 18:12:41.2120   \n",
       "93594            488  2019-02-15 17:30:48.5980  2019-02-15 17:38:57.5350   \n",
       "117404           193  2019-02-11 22:04:38.8910  2019-02-11 22:07:52.5630   \n",
       "\n",
       "        start_station_id             start_station_name  \\\n",
       "162911             381.0          20th St at Dolores St   \n",
       "79537              248.0     Telegraph Ave at Ashby Ave   \n",
       "49704               95.0          Sanchez St at 15th St   \n",
       "78565              377.0          Fell St at Stanyan St   \n",
       "174581              23.0  The Embarcadero at Steuart St   \n",
       "148638              70.0         Central Ave at Fell St   \n",
       "82087               58.0           Market St at 10th St   \n",
       "2455               126.0                    Esprit Park   \n",
       "93594              109.0         17th St at Valencia St   \n",
       "117404             196.0        Grand Ave at Perkins St   \n",
       "\n",
       "        start_station_latitude  start_station_longitude  end_station_id  \\\n",
       "162911               37.758238              -122.426094           114.0   \n",
       "79537                37.855956              -122.259795           274.0   \n",
       "49704                37.766219              -122.431060            72.0   \n",
       "78565                37.771917              -122.453704           355.0   \n",
       "174581               37.791464              -122.391034            24.0   \n",
       "148638               37.773311              -122.444293            55.0   \n",
       "82087                37.776619              -122.417385            27.0   \n",
       "2455                 37.761634              -122.390648            15.0   \n",
       "93594                37.763316              -122.421904           114.0   \n",
       "117404               37.808894              -122.256460           193.0   \n",
       "\n",
       "                                         end_station_name  \\\n",
       "162911                         Rhode Island St at 17th St   \n",
       "79537                             Oregon St at Adeline St   \n",
       "49704                                 Page St at Scott St   \n",
       "78565                             23rd St at Tennessee St   \n",
       "174581                              Spear St at Folsom St   \n",
       "148638                             Webster St at Grove St   \n",
       "82087                             Beale St at Harrison St   \n",
       "2455    San Francisco Ferry Building (Harry Bridges Pl...   \n",
       "93594                          Rhode Island St at 17th St   \n",
       "117404                       Grand Ave at Santa Clara Ave   \n",
       "\n",
       "        end_station_latitude  end_station_longitude  bike_id   user_type  \\\n",
       "162911             37.764478            -122.402570     5334  Subscriber   \n",
       "79537              37.857567            -122.267558     4828  Subscriber   \n",
       "49704              37.772406            -122.435650     5345  Subscriber   \n",
       "78565              37.755367            -122.388795     6420  Subscriber   \n",
       "174581             37.789677            -122.390428      449  Subscriber   \n",
       "148638             37.777053            -122.429558     5407  Subscriber   \n",
       "82087              37.788059            -122.391865     5576  Subscriber   \n",
       "2455               37.795392            -122.394203     6201    Customer   \n",
       "93594              37.764478            -122.402570     6430  Subscriber   \n",
       "117404             37.812744            -122.247215     4863  Subscriber   \n",
       "\n",
       "        member_birth_year member_gender bike_share_for_all_trip  \n",
       "162911             1975.0          Male                      No  \n",
       "79537              1998.0          Male                      No  \n",
       "49704                 NaN           NaN                      No  \n",
       "78565              1996.0          Male                      No  \n",
       "174581             1998.0          Male                      No  \n",
       "148638             1994.0          Male                      No  \n",
       "82087              1997.0          Male                      No  \n",
       "2455               1993.0          Male                      No  \n",
       "93594                 NaN           NaN                      No  \n",
       "117404             1979.0          Male                      No  "
      ]
     },
     "execution_count": 7,
     "metadata": {},
     "output_type": "execute_result"
    }
   ],
   "source": [
    "#get random sample of the data\n",
    "df.sample(10)"
   ]
  },
  {
   "cell_type": "code",
   "execution_count": 8,
   "metadata": {},
   "outputs": [
    {
     "data": {
      "text/plain": [
       "0"
      ]
     },
     "execution_count": 8,
     "metadata": {},
     "output_type": "execute_result"
    }
   ],
   "source": [
    "#sum of duplicates\n",
    "df.duplicated().sum()"
   ]
  },
  {
   "cell_type": "code",
   "execution_count": 9,
   "metadata": {},
   "outputs": [
    {
     "data": {
      "text/plain": [
       "duration_sec                  0\n",
       "start_time                    0\n",
       "end_time                      0\n",
       "start_station_id            197\n",
       "start_station_name          197\n",
       "start_station_latitude        0\n",
       "start_station_longitude       0\n",
       "end_station_id              197\n",
       "end_station_name            197\n",
       "end_station_latitude          0\n",
       "end_station_longitude         0\n",
       "bike_id                       0\n",
       "user_type                     0\n",
       "member_birth_year          8265\n",
       "member_gender              8265\n",
       "bike_share_for_all_trip       0\n",
       "dtype: int64"
      ]
     },
     "execution_count": 9,
     "metadata": {},
     "output_type": "execute_result"
    }
   ],
   "source": [
    "#sum of null values\n",
    "df.isnull().sum()"
   ]
  },
  {
   "cell_type": "markdown",
   "metadata": {},
   "source": [
    "> `start_station_id`, `start_station_name`, `end_station_id`,`end_station_name` `member_birth_year` and `member_gender` columns have null values(missing values).\n",
    "> The null values can be replaced using mean or be dropped since they don't account for"
   ]
  },
  {
   "cell_type": "code",
   "execution_count": 10,
   "metadata": {},
   "outputs": [
    {
     "data": {
      "text/html": [
       "<div>\n",
       "<style scoped>\n",
       "    .dataframe tbody tr th:only-of-type {\n",
       "        vertical-align: middle;\n",
       "    }\n",
       "\n",
       "    .dataframe tbody tr th {\n",
       "        vertical-align: top;\n",
       "    }\n",
       "\n",
       "    .dataframe thead th {\n",
       "        text-align: right;\n",
       "    }\n",
       "</style>\n",
       "<table border=\"1\" class=\"dataframe\">\n",
       "  <thead>\n",
       "    <tr style=\"text-align: right;\">\n",
       "      <th></th>\n",
       "      <th>duration_sec</th>\n",
       "      <th>start_station_id</th>\n",
       "      <th>start_station_latitude</th>\n",
       "      <th>start_station_longitude</th>\n",
       "      <th>end_station_id</th>\n",
       "      <th>end_station_latitude</th>\n",
       "      <th>end_station_longitude</th>\n",
       "      <th>bike_id</th>\n",
       "      <th>member_birth_year</th>\n",
       "    </tr>\n",
       "  </thead>\n",
       "  <tbody>\n",
       "    <tr>\n",
       "      <th>count</th>\n",
       "      <td>183412.000000</td>\n",
       "      <td>183215.000000</td>\n",
       "      <td>183412.000000</td>\n",
       "      <td>183412.000000</td>\n",
       "      <td>183215.000000</td>\n",
       "      <td>183412.000000</td>\n",
       "      <td>183412.000000</td>\n",
       "      <td>183412.000000</td>\n",
       "      <td>175147.000000</td>\n",
       "    </tr>\n",
       "    <tr>\n",
       "      <th>mean</th>\n",
       "      <td>726.078435</td>\n",
       "      <td>138.590427</td>\n",
       "      <td>37.771223</td>\n",
       "      <td>-122.352664</td>\n",
       "      <td>136.249123</td>\n",
       "      <td>37.771427</td>\n",
       "      <td>-122.352250</td>\n",
       "      <td>4472.906375</td>\n",
       "      <td>1984.806437</td>\n",
       "    </tr>\n",
       "    <tr>\n",
       "      <th>std</th>\n",
       "      <td>1794.389780</td>\n",
       "      <td>111.778864</td>\n",
       "      <td>0.099581</td>\n",
       "      <td>0.117097</td>\n",
       "      <td>111.515131</td>\n",
       "      <td>0.099490</td>\n",
       "      <td>0.116673</td>\n",
       "      <td>1664.383394</td>\n",
       "      <td>10.116689</td>\n",
       "    </tr>\n",
       "    <tr>\n",
       "      <th>min</th>\n",
       "      <td>61.000000</td>\n",
       "      <td>3.000000</td>\n",
       "      <td>37.317298</td>\n",
       "      <td>-122.453704</td>\n",
       "      <td>3.000000</td>\n",
       "      <td>37.317298</td>\n",
       "      <td>-122.453704</td>\n",
       "      <td>11.000000</td>\n",
       "      <td>1878.000000</td>\n",
       "    </tr>\n",
       "    <tr>\n",
       "      <th>25%</th>\n",
       "      <td>325.000000</td>\n",
       "      <td>47.000000</td>\n",
       "      <td>37.770083</td>\n",
       "      <td>-122.412408</td>\n",
       "      <td>44.000000</td>\n",
       "      <td>37.770407</td>\n",
       "      <td>-122.411726</td>\n",
       "      <td>3777.000000</td>\n",
       "      <td>1980.000000</td>\n",
       "    </tr>\n",
       "    <tr>\n",
       "      <th>50%</th>\n",
       "      <td>514.000000</td>\n",
       "      <td>104.000000</td>\n",
       "      <td>37.780760</td>\n",
       "      <td>-122.398285</td>\n",
       "      <td>100.000000</td>\n",
       "      <td>37.781010</td>\n",
       "      <td>-122.398279</td>\n",
       "      <td>4958.000000</td>\n",
       "      <td>1987.000000</td>\n",
       "    </tr>\n",
       "    <tr>\n",
       "      <th>75%</th>\n",
       "      <td>796.000000</td>\n",
       "      <td>239.000000</td>\n",
       "      <td>37.797280</td>\n",
       "      <td>-122.286533</td>\n",
       "      <td>235.000000</td>\n",
       "      <td>37.797320</td>\n",
       "      <td>-122.288045</td>\n",
       "      <td>5502.000000</td>\n",
       "      <td>1992.000000</td>\n",
       "    </tr>\n",
       "    <tr>\n",
       "      <th>max</th>\n",
       "      <td>85444.000000</td>\n",
       "      <td>398.000000</td>\n",
       "      <td>37.880222</td>\n",
       "      <td>-121.874119</td>\n",
       "      <td>398.000000</td>\n",
       "      <td>37.880222</td>\n",
       "      <td>-121.874119</td>\n",
       "      <td>6645.000000</td>\n",
       "      <td>2001.000000</td>\n",
       "    </tr>\n",
       "  </tbody>\n",
       "</table>\n",
       "</div>"
      ],
      "text/plain": [
       "        duration_sec  start_station_id  start_station_latitude  \\\n",
       "count  183412.000000     183215.000000           183412.000000   \n",
       "mean      726.078435        138.590427               37.771223   \n",
       "std      1794.389780        111.778864                0.099581   \n",
       "min        61.000000          3.000000               37.317298   \n",
       "25%       325.000000         47.000000               37.770083   \n",
       "50%       514.000000        104.000000               37.780760   \n",
       "75%       796.000000        239.000000               37.797280   \n",
       "max     85444.000000        398.000000               37.880222   \n",
       "\n",
       "       start_station_longitude  end_station_id  end_station_latitude  \\\n",
       "count            183412.000000   183215.000000         183412.000000   \n",
       "mean               -122.352664      136.249123             37.771427   \n",
       "std                   0.117097      111.515131              0.099490   \n",
       "min                -122.453704        3.000000             37.317298   \n",
       "25%                -122.412408       44.000000             37.770407   \n",
       "50%                -122.398285      100.000000             37.781010   \n",
       "75%                -122.286533      235.000000             37.797320   \n",
       "max                -121.874119      398.000000             37.880222   \n",
       "\n",
       "       end_station_longitude        bike_id  member_birth_year  \n",
       "count          183412.000000  183412.000000      175147.000000  \n",
       "mean             -122.352250    4472.906375        1984.806437  \n",
       "std                 0.116673    1664.383394          10.116689  \n",
       "min              -122.453704      11.000000        1878.000000  \n",
       "25%              -122.411726    3777.000000        1980.000000  \n",
       "50%              -122.398279    4958.000000        1987.000000  \n",
       "75%              -122.288045    5502.000000        1992.000000  \n",
       "max              -121.874119    6645.000000        2001.000000  "
      ]
     },
     "execution_count": 10,
     "metadata": {},
     "output_type": "execute_result"
    }
   ],
   "source": [
    "#print summary statitics of the dataset\n",
    "df.describe()"
   ]
  },
  {
   "cell_type": "markdown",
   "metadata": {},
   "source": [
    "> `max duration_sec` seems to be quite huge and is far aways from other vaues.\n",
    "> `member_birth year` seems to be out of place since it's hard to imagine a 141 year old riding a bike. A 141 year old doesn't seem to have the ability to do that."
   ]
  },
  {
   "cell_type": "code",
   "execution_count": 11,
   "metadata": {},
   "outputs": [
    {
     "data": {
      "text/plain": [
       "0         False\n",
       "1         False\n",
       "2         False\n",
       "3         False\n",
       "4         False\n",
       "          ...  \n",
       "183407    False\n",
       "183408    False\n",
       "183409    False\n",
       "183410    False\n",
       "183411    False\n",
       "Name: start_station_id, Length: 183412, dtype: bool"
      ]
     },
     "execution_count": 11,
     "metadata": {},
     "output_type": "execute_result"
    }
   ],
   "source": [
    "df['start_station_id'].isnull()"
   ]
  },
  {
   "cell_type": "markdown",
   "metadata": {},
   "source": [
    "#### check User_type and member_gender for categorical data "
   ]
  },
  {
   "cell_type": "code",
   "execution_count": 12,
   "metadata": {},
   "outputs": [
    {
     "data": {
      "text/plain": [
       "No     166053\n",
       "Yes     17359\n",
       "Name: bike_share_for_all_trip, dtype: int64"
      ]
     },
     "execution_count": 12,
     "metadata": {},
     "output_type": "execute_result"
    }
   ],
   "source": [
    "#get count of unique values\n",
    "df.bike_share_for_all_trip.value_counts()"
   ]
  },
  {
   "cell_type": "markdown",
   "metadata": {},
   "source": [
    "> The `bike_share_for_all_trip` should be a categorical(nominal) data type"
   ]
  },
  {
   "cell_type": "code",
   "execution_count": 13,
   "metadata": {},
   "outputs": [
    {
     "data": {
      "text/plain": [
       "4646"
      ]
     },
     "execution_count": 13,
     "metadata": {},
     "output_type": "execute_result"
    }
   ],
   "source": [
    "#number of distinct bikes\n",
    "df.bike_id.nunique()"
   ]
  },
  {
   "cell_type": "code",
   "execution_count": 14,
   "metadata": {},
   "outputs": [
    {
     "data": {
      "text/plain": [
       "Subscriber    163544\n",
       "Customer       19868\n",
       "Name: user_type, dtype: int64"
      ]
     },
     "execution_count": 14,
     "metadata": {},
     "output_type": "execute_result"
    }
   ],
   "source": [
    "df['user_type'].value_counts()"
   ]
  },
  {
   "cell_type": "markdown",
   "metadata": {},
   "source": [
    "> `user_type` is a categorical(nominal)  data type"
   ]
  },
  {
   "cell_type": "code",
   "execution_count": 15,
   "metadata": {},
   "outputs": [
    {
     "data": {
      "text/plain": [
       "Male      130651\n",
       "Female     40844\n",
       "Other       3652\n",
       "Name: member_gender, dtype: int64"
      ]
     },
     "execution_count": 15,
     "metadata": {},
     "output_type": "execute_result"
    }
   ],
   "source": [
    "df['member_gender'].value_counts()"
   ]
  },
  {
   "cell_type": "markdown",
   "metadata": {},
   "source": [
    "> `member_gender` is a categorical(nominal) data type"
   ]
  },
  {
   "cell_type": "code",
   "execution_count": 16,
   "metadata": {},
   "outputs": [
    {
     "data": {
      "text/plain": [
       "duration_sec               0\n",
       "start_time                 0\n",
       "end_time                   0\n",
       "start_station_id           0\n",
       "start_station_name         0\n",
       "start_station_latitude     0\n",
       "start_station_longitude    0\n",
       "end_station_id             0\n",
       "end_station_name           0\n",
       "end_station_latitude       0\n",
       "end_station_longitude      0\n",
       "bike_id                    0\n",
       "user_type                  0\n",
       "member_birth_year          0\n",
       "member_gender              0\n",
       "bike_share_for_all_trip    0\n",
       "dtype: int64"
      ]
     },
     "execution_count": 16,
     "metadata": {},
     "output_type": "execute_result"
    }
   ],
   "source": [
    "#checking how many trips have the minimu duration of 60 seconds value\n",
    "df[df.duration_sec == 60].count()"
   ]
  },
  {
   "cell_type": "code",
   "execution_count": 17,
   "metadata": {},
   "outputs": [
    {
     "data": {
      "text/html": [
       "<div>\n",
       "<style scoped>\n",
       "    .dataframe tbody tr th:only-of-type {\n",
       "        vertical-align: middle;\n",
       "    }\n",
       "\n",
       "    .dataframe tbody tr th {\n",
       "        vertical-align: top;\n",
       "    }\n",
       "\n",
       "    .dataframe thead th {\n",
       "        text-align: right;\n",
       "    }\n",
       "</style>\n",
       "<table border=\"1\" class=\"dataframe\">\n",
       "  <thead>\n",
       "    <tr style=\"text-align: right;\">\n",
       "      <th></th>\n",
       "      <th>duration_sec</th>\n",
       "      <th>start_time</th>\n",
       "      <th>end_time</th>\n",
       "      <th>start_station_id</th>\n",
       "      <th>start_station_name</th>\n",
       "      <th>start_station_latitude</th>\n",
       "      <th>start_station_longitude</th>\n",
       "      <th>end_station_id</th>\n",
       "      <th>end_station_name</th>\n",
       "      <th>end_station_latitude</th>\n",
       "      <th>end_station_longitude</th>\n",
       "      <th>bike_id</th>\n",
       "      <th>user_type</th>\n",
       "      <th>member_birth_year</th>\n",
       "      <th>member_gender</th>\n",
       "      <th>bike_share_for_all_trip</th>\n",
       "    </tr>\n",
       "  </thead>\n",
       "  <tbody>\n",
       "    <tr>\n",
       "      <th>101361</th>\n",
       "      <td>85444</td>\n",
       "      <td>2019-02-13 17:59:55.1240</td>\n",
       "      <td>2019-02-14 17:43:59.9540</td>\n",
       "      <td>5.0</td>\n",
       "      <td>Powell St BART Station (Market St at 5th St)</td>\n",
       "      <td>37.783899</td>\n",
       "      <td>-122.408445</td>\n",
       "      <td>98.0</td>\n",
       "      <td>Valencia St at 16th St</td>\n",
       "      <td>37.765052</td>\n",
       "      <td>-122.421866</td>\n",
       "      <td>6168</td>\n",
       "      <td>Subscriber</td>\n",
       "      <td>NaN</td>\n",
       "      <td>NaN</td>\n",
       "      <td>No</td>\n",
       "    </tr>\n",
       "    <tr>\n",
       "      <th>85465</th>\n",
       "      <td>84548</td>\n",
       "      <td>2019-02-16 15:48:25.0290</td>\n",
       "      <td>2019-02-17 15:17:33.0800</td>\n",
       "      <td>3.0</td>\n",
       "      <td>Powell St BART Station (Market St at 4th St)</td>\n",
       "      <td>37.786375</td>\n",
       "      <td>-122.404904</td>\n",
       "      <td>368.0</td>\n",
       "      <td>Myrtle St at Polk St</td>\n",
       "      <td>37.785434</td>\n",
       "      <td>-122.419622</td>\n",
       "      <td>6301</td>\n",
       "      <td>Subscriber</td>\n",
       "      <td>1981.0</td>\n",
       "      <td>Male</td>\n",
       "      <td>No</td>\n",
       "    </tr>\n",
       "    <tr>\n",
       "      <th>153705</th>\n",
       "      <td>83772</td>\n",
       "      <td>2019-02-05 12:44:54.2860</td>\n",
       "      <td>2019-02-06 12:01:06.6310</td>\n",
       "      <td>78.0</td>\n",
       "      <td>Folsom St at 9th St</td>\n",
       "      <td>37.773717</td>\n",
       "      <td>-122.411647</td>\n",
       "      <td>345.0</td>\n",
       "      <td>Hubbell St at 16th St</td>\n",
       "      <td>37.766483</td>\n",
       "      <td>-122.398279</td>\n",
       "      <td>3405</td>\n",
       "      <td>Customer</td>\n",
       "      <td>NaN</td>\n",
       "      <td>NaN</td>\n",
       "      <td>No</td>\n",
       "    </tr>\n",
       "    <tr>\n",
       "      <th>127999</th>\n",
       "      <td>83519</td>\n",
       "      <td>2019-02-09 15:16:17.5370</td>\n",
       "      <td>2019-02-10 14:28:17.2700</td>\n",
       "      <td>72.0</td>\n",
       "      <td>Page St at Scott St</td>\n",
       "      <td>37.772406</td>\n",
       "      <td>-122.435650</td>\n",
       "      <td>43.0</td>\n",
       "      <td>San Francisco Public Library (Grove St at Hyde...</td>\n",
       "      <td>37.778768</td>\n",
       "      <td>-122.415929</td>\n",
       "      <td>5561</td>\n",
       "      <td>Customer</td>\n",
       "      <td>1990.0</td>\n",
       "      <td>Male</td>\n",
       "      <td>No</td>\n",
       "    </tr>\n",
       "    <tr>\n",
       "      <th>112435</th>\n",
       "      <td>83407</td>\n",
       "      <td>2019-02-11 16:25:33.0690</td>\n",
       "      <td>2019-02-12 15:35:40.9560</td>\n",
       "      <td>77.0</td>\n",
       "      <td>11th St at Natoma St</td>\n",
       "      <td>37.773507</td>\n",
       "      <td>-122.416040</td>\n",
       "      <td>344.0</td>\n",
       "      <td>16th St Depot</td>\n",
       "      <td>37.766349</td>\n",
       "      <td>-122.396292</td>\n",
       "      <td>1842</td>\n",
       "      <td>Customer</td>\n",
       "      <td>1988.0</td>\n",
       "      <td>Male</td>\n",
       "      <td>No</td>\n",
       "    </tr>\n",
       "    <tr>\n",
       "      <th>5203</th>\n",
       "      <td>83195</td>\n",
       "      <td>2019-02-27 14:47:23.1810</td>\n",
       "      <td>2019-02-28 13:53:58.4330</td>\n",
       "      <td>243.0</td>\n",
       "      <td>Bancroft Way at College Ave</td>\n",
       "      <td>37.869360</td>\n",
       "      <td>-122.254337</td>\n",
       "      <td>248.0</td>\n",
       "      <td>Telegraph Ave at Ashby Ave</td>\n",
       "      <td>37.855956</td>\n",
       "      <td>-122.259795</td>\n",
       "      <td>5781</td>\n",
       "      <td>Subscriber</td>\n",
       "      <td>1962.0</td>\n",
       "      <td>Female</td>\n",
       "      <td>Yes</td>\n",
       "    </tr>\n",
       "    <tr>\n",
       "      <th>95750</th>\n",
       "      <td>82512</td>\n",
       "      <td>2019-02-14 13:56:21.7280</td>\n",
       "      <td>2019-02-15 12:51:34.3150</td>\n",
       "      <td>368.0</td>\n",
       "      <td>Myrtle St at Polk St</td>\n",
       "      <td>37.785434</td>\n",
       "      <td>-122.419622</td>\n",
       "      <td>44.0</td>\n",
       "      <td>Civic Center/UN Plaza BART Station (Market St ...</td>\n",
       "      <td>37.781074</td>\n",
       "      <td>-122.411738</td>\n",
       "      <td>6152</td>\n",
       "      <td>Customer</td>\n",
       "      <td>1998.0</td>\n",
       "      <td>Other</td>\n",
       "      <td>No</td>\n",
       "    </tr>\n",
       "    <tr>\n",
       "      <th>173365</th>\n",
       "      <td>82385</td>\n",
       "      <td>2019-02-02 13:07:43.0360</td>\n",
       "      <td>2019-02-03 12:00:48.1750</td>\n",
       "      <td>377.0</td>\n",
       "      <td>Fell St at Stanyan St</td>\n",
       "      <td>37.771917</td>\n",
       "      <td>-122.453704</td>\n",
       "      <td>377.0</td>\n",
       "      <td>Fell St at Stanyan St</td>\n",
       "      <td>37.771917</td>\n",
       "      <td>-122.453704</td>\n",
       "      <td>2933</td>\n",
       "      <td>Customer</td>\n",
       "      <td>NaN</td>\n",
       "      <td>NaN</td>\n",
       "      <td>No</td>\n",
       "    </tr>\n",
       "    <tr>\n",
       "      <th>8631</th>\n",
       "      <td>81549</td>\n",
       "      <td>2019-02-27 09:41:38.5520</td>\n",
       "      <td>2019-02-28 08:20:48.3860</td>\n",
       "      <td>138.0</td>\n",
       "      <td>Jersey St at Church St</td>\n",
       "      <td>37.750900</td>\n",
       "      <td>-122.427411</td>\n",
       "      <td>140.0</td>\n",
       "      <td>Cesar Chavez St at Dolores St</td>\n",
       "      <td>37.747858</td>\n",
       "      <td>-122.424986</td>\n",
       "      <td>2266</td>\n",
       "      <td>Subscriber</td>\n",
       "      <td>1963.0</td>\n",
       "      <td>Female</td>\n",
       "      <td>No</td>\n",
       "    </tr>\n",
       "    <tr>\n",
       "      <th>176987</th>\n",
       "      <td>80891</td>\n",
       "      <td>2019-02-01 11:05:18.9760</td>\n",
       "      <td>2019-02-02 09:33:30.1690</td>\n",
       "      <td>44.0</td>\n",
       "      <td>Civic Center/UN Plaza BART Station (Market St ...</td>\n",
       "      <td>37.781074</td>\n",
       "      <td>-122.411738</td>\n",
       "      <td>55.0</td>\n",
       "      <td>Webster St at Grove St</td>\n",
       "      <td>37.777053</td>\n",
       "      <td>-122.429558</td>\n",
       "      <td>3133</td>\n",
       "      <td>Customer</td>\n",
       "      <td>NaN</td>\n",
       "      <td>NaN</td>\n",
       "      <td>No</td>\n",
       "    </tr>\n",
       "  </tbody>\n",
       "</table>\n",
       "</div>"
      ],
      "text/plain": [
       "        duration_sec                start_time                  end_time  \\\n",
       "101361         85444  2019-02-13 17:59:55.1240  2019-02-14 17:43:59.9540   \n",
       "85465          84548  2019-02-16 15:48:25.0290  2019-02-17 15:17:33.0800   \n",
       "153705         83772  2019-02-05 12:44:54.2860  2019-02-06 12:01:06.6310   \n",
       "127999         83519  2019-02-09 15:16:17.5370  2019-02-10 14:28:17.2700   \n",
       "112435         83407  2019-02-11 16:25:33.0690  2019-02-12 15:35:40.9560   \n",
       "5203           83195  2019-02-27 14:47:23.1810  2019-02-28 13:53:58.4330   \n",
       "95750          82512  2019-02-14 13:56:21.7280  2019-02-15 12:51:34.3150   \n",
       "173365         82385  2019-02-02 13:07:43.0360  2019-02-03 12:00:48.1750   \n",
       "8631           81549  2019-02-27 09:41:38.5520  2019-02-28 08:20:48.3860   \n",
       "176987         80891  2019-02-01 11:05:18.9760  2019-02-02 09:33:30.1690   \n",
       "\n",
       "        start_station_id                                 start_station_name  \\\n",
       "101361               5.0       Powell St BART Station (Market St at 5th St)   \n",
       "85465                3.0       Powell St BART Station (Market St at 4th St)   \n",
       "153705              78.0                                Folsom St at 9th St   \n",
       "127999              72.0                                Page St at Scott St   \n",
       "112435              77.0                               11th St at Natoma St   \n",
       "5203               243.0                        Bancroft Way at College Ave   \n",
       "95750              368.0                               Myrtle St at Polk St   \n",
       "173365             377.0                              Fell St at Stanyan St   \n",
       "8631               138.0                             Jersey St at Church St   \n",
       "176987              44.0  Civic Center/UN Plaza BART Station (Market St ...   \n",
       "\n",
       "        start_station_latitude  start_station_longitude  end_station_id  \\\n",
       "101361               37.783899              -122.408445            98.0   \n",
       "85465                37.786375              -122.404904           368.0   \n",
       "153705               37.773717              -122.411647           345.0   \n",
       "127999               37.772406              -122.435650            43.0   \n",
       "112435               37.773507              -122.416040           344.0   \n",
       "5203                 37.869360              -122.254337           248.0   \n",
       "95750                37.785434              -122.419622            44.0   \n",
       "173365               37.771917              -122.453704           377.0   \n",
       "8631                 37.750900              -122.427411           140.0   \n",
       "176987               37.781074              -122.411738            55.0   \n",
       "\n",
       "                                         end_station_name  \\\n",
       "101361                             Valencia St at 16th St   \n",
       "85465                                Myrtle St at Polk St   \n",
       "153705                              Hubbell St at 16th St   \n",
       "127999  San Francisco Public Library (Grove St at Hyde...   \n",
       "112435                                      16th St Depot   \n",
       "5203                           Telegraph Ave at Ashby Ave   \n",
       "95750   Civic Center/UN Plaza BART Station (Market St ...   \n",
       "173365                              Fell St at Stanyan St   \n",
       "8631                        Cesar Chavez St at Dolores St   \n",
       "176987                             Webster St at Grove St   \n",
       "\n",
       "        end_station_latitude  end_station_longitude  bike_id   user_type  \\\n",
       "101361             37.765052            -122.421866     6168  Subscriber   \n",
       "85465              37.785434            -122.419622     6301  Subscriber   \n",
       "153705             37.766483            -122.398279     3405    Customer   \n",
       "127999             37.778768            -122.415929     5561    Customer   \n",
       "112435             37.766349            -122.396292     1842    Customer   \n",
       "5203               37.855956            -122.259795     5781  Subscriber   \n",
       "95750              37.781074            -122.411738     6152    Customer   \n",
       "173365             37.771917            -122.453704     2933    Customer   \n",
       "8631               37.747858            -122.424986     2266  Subscriber   \n",
       "176987             37.777053            -122.429558     3133    Customer   \n",
       "\n",
       "        member_birth_year member_gender bike_share_for_all_trip  \n",
       "101361                NaN           NaN                      No  \n",
       "85465              1981.0          Male                      No  \n",
       "153705                NaN           NaN                      No  \n",
       "127999             1990.0          Male                      No  \n",
       "112435             1988.0          Male                      No  \n",
       "5203               1962.0        Female                     Yes  \n",
       "95750              1998.0         Other                      No  \n",
       "173365                NaN           NaN                      No  \n",
       "8631               1963.0        Female                      No  \n",
       "176987                NaN           NaN                      No  "
      ]
     },
     "execution_count": 17,
     "metadata": {},
     "output_type": "execute_result"
    }
   ],
   "source": [
    "#checking 10 maximum duration\n",
    "df.nlargest(10, ['duration_sec'])"
   ]
  },
  {
   "cell_type": "markdown",
   "metadata": {},
   "source": [
    "> There seems to be outliers in `duration_sec` since it's not reasonable for ridea bike for 20 plus hours"
   ]
  },
  {
   "cell_type": "markdown",
   "metadata": {},
   "source": [
    "## Summary of assessment"
   ]
  },
  {
   "cell_type": "markdown",
   "metadata": {},
   "source": [
    "### Quality issue"
   ]
  },
  {
   "cell_type": "markdown",
   "metadata": {},
   "source": [
    "1. Missing data in start_station_id, start_station_name, end_station_id,end_station_name member_birth_year and member_gender\n",
    "2.  Erroneous data types(start_time, end_time, member_birth_year, start_station_id, end_station_id, bike_id, user_type, member_gender)\n",
    "3. outliers in Member_birth_year and and duration_sec"
   ]
  },
  {
   "cell_type": "markdown",
   "metadata": {},
   "source": [
    "### Tidiness issue"
   ]
  },
  {
   "cell_type": "markdown",
   "metadata": {},
   "source": [
    "1.There is no column that indicate the day and month of the year and start time in terms of hours and minutes of day"
   ]
  },
  {
   "cell_type": "markdown",
   "metadata": {},
   "source": [
    "## Data Cleaning"
   ]
  },
  {
   "cell_type": "markdown",
   "metadata": {},
   "source": [
    "### creating a dataframe copy\n"
   ]
  },
  {
   "cell_type": "code",
   "execution_count": 18,
   "metadata": {},
   "outputs": [],
   "source": [
    "clean_df = df.copy()"
   ]
  },
  {
   "cell_type": "markdown",
   "metadata": {},
   "source": [
    "### 1. Missing data"
   ]
  },
  {
   "cell_type": "markdown",
   "metadata": {},
   "source": [
    "#### Define\n",
    "- use the `dropna()` method to drop missing values\n",
    "\n",
    "#### Code"
   ]
  },
  {
   "cell_type": "code",
   "execution_count": 19,
   "metadata": {},
   "outputs": [],
   "source": [
    "#remove null values\n",
    "clean_df = clean_df.dropna()"
   ]
  },
  {
   "cell_type": "markdown",
   "metadata": {},
   "source": [
    "#### Test"
   ]
  },
  {
   "cell_type": "code",
   "execution_count": 20,
   "metadata": {},
   "outputs": [
    {
     "data": {
      "text/plain": [
       "duration_sec               0\n",
       "start_time                 0\n",
       "end_time                   0\n",
       "start_station_id           0\n",
       "start_station_name         0\n",
       "start_station_latitude     0\n",
       "start_station_longitude    0\n",
       "end_station_id             0\n",
       "end_station_name           0\n",
       "end_station_latitude       0\n",
       "end_station_longitude      0\n",
       "bike_id                    0\n",
       "user_type                  0\n",
       "member_birth_year          0\n",
       "member_gender              0\n",
       "bike_share_for_all_trip    0\n",
       "dtype: int64"
      ]
     },
     "execution_count": 20,
     "metadata": {},
     "output_type": "execute_result"
    }
   ],
   "source": [
    "clean_df.isnull().sum()"
   ]
  },
  {
   "cell_type": "markdown",
   "metadata": {},
   "source": [
    "### 2. Erroneaous data types"
   ]
  },
  {
   "cell_type": "markdown",
   "metadata": {},
   "source": [
    "#### Define"
   ]
  },
  {
   "cell_type": "markdown",
   "metadata": {},
   "source": [
    "- Convert `start_time`, `end_time` datatype to datetime.\n",
    "- convert `start_station_id`, `end_station_id`, `bike_id` to str.\n",
    "- convert `user_type`, `bike_share_for_all_trip`,`member_gender` to category \n",
    "- Convert `member_birth_year` to int data type"
   ]
  },
  {
   "cell_type": "markdown",
   "metadata": {},
   "source": [
    "#### Code"
   ]
  },
  {
   "cell_type": "code",
   "execution_count": 21,
   "metadata": {},
   "outputs": [
    {
     "data": {
      "text/plain": [
       "duration_sec                        int64\n",
       "start_time                 datetime64[ns]\n",
       "end_time                   datetime64[ns]\n",
       "start_station_id                   object\n",
       "start_station_name                 object\n",
       "start_station_latitude            float64\n",
       "start_station_longitude           float64\n",
       "end_station_id                     object\n",
       "end_station_name                   object\n",
       "end_station_latitude              float64\n",
       "end_station_longitude             float64\n",
       "bike_id                            object\n",
       "user_type                        category\n",
       "member_birth_year                   int32\n",
       "member_gender                    category\n",
       "bike_share_for_all_trip          category\n",
       "dtype: object"
      ]
     },
     "execution_count": 21,
     "metadata": {},
     "output_type": "execute_result"
    }
   ],
   "source": [
    "def erroneous_df(fordbike):\n",
    "    # Use pd.to_datetime to convert datatype to datetime\n",
    "    fordbike.start_time = pd.to_datetime(fordbike.start_time)\n",
    "    fordbike.end_time = pd.to_datetime(fordbike.end_time)\n",
    "\n",
    "    # Use astype(str) to convert datatype to str\n",
    "    fordbike.start_station_id = fordbike.bike_id.astype(str)\n",
    "    fordbike.end_station_id = fordbike.bike_id.astype(str)\n",
    "    fordbike.bike_id = fordbike.bike_id.astype(str)\n",
    "\n",
    "    # Use astype('category') to set user type, bike_share_for_all_trip, rental_access_method to category\n",
    "    fordbike.user_type = fordbike.user_type.astype('category')\n",
    "    fordbike.member_gender = fordbike.member_gender.astype('category')\n",
    "    fordbike.bike_share_for_all_trip = fordbike.bike_share_for_all_trip.astype('category')\n",
    "\n",
    "    # change the type of 'member_birth_year'\n",
    "    fordbike.member_birth_year = fordbike.member_birth_year.astype(int)\n",
    "    return fordbike.dtypes\n",
    "\n",
    "erroneous_df(clean_df)"
   ]
  },
  {
   "cell_type": "markdown",
   "metadata": {},
   "source": [
    "#### Test"
   ]
  },
  {
   "cell_type": "code",
   "execution_count": 22,
   "metadata": {},
   "outputs": [
    {
     "data": {
      "text/plain": [
       "duration_sec                        int64\n",
       "start_time                 datetime64[ns]\n",
       "end_time                   datetime64[ns]\n",
       "start_station_id                   object\n",
       "start_station_name                 object\n",
       "start_station_latitude            float64\n",
       "start_station_longitude           float64\n",
       "end_station_id                     object\n",
       "end_station_name                   object\n",
       "end_station_latitude              float64\n",
       "end_station_longitude             float64\n",
       "bike_id                            object\n",
       "user_type                        category\n",
       "member_birth_year                   int32\n",
       "member_gender                    category\n",
       "bike_share_for_all_trip          category\n",
       "dtype: object"
      ]
     },
     "execution_count": 22,
     "metadata": {},
     "output_type": "execute_result"
    }
   ],
   "source": [
    "#check if data types have changed\n",
    "clean_df.dtypes"
   ]
  },
  {
   "cell_type": "markdown",
   "metadata": {},
   "source": [
    "### Clean Tidiness issue"
   ]
  },
  {
   "cell_type": "markdown",
   "metadata": {},
   "source": [
    "#### Define\n",
    "- add new columns for trip duration in minutes, hours\n",
    "- add new columns for start data, in yyyy-month-day format\n",
    "- add column for start hour, start day of wekk and start month"
   ]
  },
  {
   "cell_type": "code",
   "execution_count": 23,
   "metadata": {},
   "outputs": [],
   "source": [
    "clean_df['duration_minute'] = clean_df['duration_sec']/60\n",
    "#clean_df['duration_hour'] = clean_df['duration_sec']/3600\n",
    "\n",
    "\n",
    "clean_df['start_date'] = clean_df.start_time.dt.strftime('%Y-%m-%d')\n",
    "#clean_df['start_hourofday'] = clean_df.start_time.dt.strftime('%H')\n",
    "clean_df['start_hour'] = clean_df.start_time.dt.hour\n",
    "clean_df['start_dayofweek'] =clean_df.start_time.dt.strftime('%A')\n",
    "clean_df['start_month'] = clean_df.start_time.dt.strftime('%B')"
   ]
  },
  {
   "cell_type": "markdown",
   "metadata": {},
   "source": [
    "#### Test"
   ]
  },
  {
   "cell_type": "code",
   "execution_count": 24,
   "metadata": {},
   "outputs": [
    {
     "data": {
      "text/html": [
       "<div>\n",
       "<style scoped>\n",
       "    .dataframe tbody tr th:only-of-type {\n",
       "        vertical-align: middle;\n",
       "    }\n",
       "\n",
       "    .dataframe tbody tr th {\n",
       "        vertical-align: top;\n",
       "    }\n",
       "\n",
       "    .dataframe thead th {\n",
       "        text-align: right;\n",
       "    }\n",
       "</style>\n",
       "<table border=\"1\" class=\"dataframe\">\n",
       "  <thead>\n",
       "    <tr style=\"text-align: right;\">\n",
       "      <th></th>\n",
       "      <th>duration_sec</th>\n",
       "      <th>start_time</th>\n",
       "      <th>end_time</th>\n",
       "      <th>start_station_id</th>\n",
       "      <th>start_station_name</th>\n",
       "      <th>start_station_latitude</th>\n",
       "      <th>start_station_longitude</th>\n",
       "      <th>end_station_id</th>\n",
       "      <th>end_station_name</th>\n",
       "      <th>end_station_latitude</th>\n",
       "      <th>...</th>\n",
       "      <th>bike_id</th>\n",
       "      <th>user_type</th>\n",
       "      <th>member_birth_year</th>\n",
       "      <th>member_gender</th>\n",
       "      <th>bike_share_for_all_trip</th>\n",
       "      <th>duration_minute</th>\n",
       "      <th>start_date</th>\n",
       "      <th>start_hour</th>\n",
       "      <th>start_dayofweek</th>\n",
       "      <th>start_month</th>\n",
       "    </tr>\n",
       "  </thead>\n",
       "  <tbody>\n",
       "    <tr>\n",
       "      <th>0</th>\n",
       "      <td>52185</td>\n",
       "      <td>2019-02-28 17:32:10.145</td>\n",
       "      <td>2019-03-01 08:01:55.975</td>\n",
       "      <td>4902</td>\n",
       "      <td>Montgomery St BART Station (Market St at 2nd St)</td>\n",
       "      <td>37.789625</td>\n",
       "      <td>-122.400811</td>\n",
       "      <td>4902</td>\n",
       "      <td>Commercial St at Montgomery St</td>\n",
       "      <td>37.794231</td>\n",
       "      <td>...</td>\n",
       "      <td>4902</td>\n",
       "      <td>Customer</td>\n",
       "      <td>1984</td>\n",
       "      <td>Male</td>\n",
       "      <td>No</td>\n",
       "      <td>869.750000</td>\n",
       "      <td>2019-02-28</td>\n",
       "      <td>17</td>\n",
       "      <td>Thursday</td>\n",
       "      <td>February</td>\n",
       "    </tr>\n",
       "    <tr>\n",
       "      <th>2</th>\n",
       "      <td>61854</td>\n",
       "      <td>2019-02-28 12:13:13.218</td>\n",
       "      <td>2019-03-01 05:24:08.146</td>\n",
       "      <td>5905</td>\n",
       "      <td>Market St at Dolores St</td>\n",
       "      <td>37.769305</td>\n",
       "      <td>-122.426826</td>\n",
       "      <td>5905</td>\n",
       "      <td>Powell St BART Station (Market St at 4th St)</td>\n",
       "      <td>37.786375</td>\n",
       "      <td>...</td>\n",
       "      <td>5905</td>\n",
       "      <td>Customer</td>\n",
       "      <td>1972</td>\n",
       "      <td>Male</td>\n",
       "      <td>No</td>\n",
       "      <td>1030.900000</td>\n",
       "      <td>2019-02-28</td>\n",
       "      <td>12</td>\n",
       "      <td>Thursday</td>\n",
       "      <td>February</td>\n",
       "    </tr>\n",
       "    <tr>\n",
       "      <th>3</th>\n",
       "      <td>36490</td>\n",
       "      <td>2019-02-28 17:54:26.010</td>\n",
       "      <td>2019-03-01 04:02:36.842</td>\n",
       "      <td>6638</td>\n",
       "      <td>Grove St at Masonic Ave</td>\n",
       "      <td>37.774836</td>\n",
       "      <td>-122.446546</td>\n",
       "      <td>6638</td>\n",
       "      <td>Central Ave at Fell St</td>\n",
       "      <td>37.773311</td>\n",
       "      <td>...</td>\n",
       "      <td>6638</td>\n",
       "      <td>Subscriber</td>\n",
       "      <td>1989</td>\n",
       "      <td>Other</td>\n",
       "      <td>No</td>\n",
       "      <td>608.166667</td>\n",
       "      <td>2019-02-28</td>\n",
       "      <td>17</td>\n",
       "      <td>Thursday</td>\n",
       "      <td>February</td>\n",
       "    </tr>\n",
       "    <tr>\n",
       "      <th>4</th>\n",
       "      <td>1585</td>\n",
       "      <td>2019-02-28 23:54:18.549</td>\n",
       "      <td>2019-03-01 00:20:44.074</td>\n",
       "      <td>4898</td>\n",
       "      <td>Frank H Ogawa Plaza</td>\n",
       "      <td>37.804562</td>\n",
       "      <td>-122.271738</td>\n",
       "      <td>4898</td>\n",
       "      <td>10th Ave at E 15th St</td>\n",
       "      <td>37.792714</td>\n",
       "      <td>...</td>\n",
       "      <td>4898</td>\n",
       "      <td>Subscriber</td>\n",
       "      <td>1974</td>\n",
       "      <td>Male</td>\n",
       "      <td>Yes</td>\n",
       "      <td>26.416667</td>\n",
       "      <td>2019-02-28</td>\n",
       "      <td>23</td>\n",
       "      <td>Thursday</td>\n",
       "      <td>February</td>\n",
       "    </tr>\n",
       "    <tr>\n",
       "      <th>5</th>\n",
       "      <td>1793</td>\n",
       "      <td>2019-02-28 23:49:58.632</td>\n",
       "      <td>2019-03-01 00:19:51.760</td>\n",
       "      <td>5200</td>\n",
       "      <td>4th St at Mission Bay Blvd S</td>\n",
       "      <td>37.770407</td>\n",
       "      <td>-122.391198</td>\n",
       "      <td>5200</td>\n",
       "      <td>Broadway at Kearny</td>\n",
       "      <td>37.798014</td>\n",
       "      <td>...</td>\n",
       "      <td>5200</td>\n",
       "      <td>Subscriber</td>\n",
       "      <td>1959</td>\n",
       "      <td>Male</td>\n",
       "      <td>No</td>\n",
       "      <td>29.883333</td>\n",
       "      <td>2019-02-28</td>\n",
       "      <td>23</td>\n",
       "      <td>Thursday</td>\n",
       "      <td>February</td>\n",
       "    </tr>\n",
       "  </tbody>\n",
       "</table>\n",
       "<p>5 rows × 21 columns</p>\n",
       "</div>"
      ],
      "text/plain": [
       "   duration_sec              start_time                end_time  \\\n",
       "0         52185 2019-02-28 17:32:10.145 2019-03-01 08:01:55.975   \n",
       "2         61854 2019-02-28 12:13:13.218 2019-03-01 05:24:08.146   \n",
       "3         36490 2019-02-28 17:54:26.010 2019-03-01 04:02:36.842   \n",
       "4          1585 2019-02-28 23:54:18.549 2019-03-01 00:20:44.074   \n",
       "5          1793 2019-02-28 23:49:58.632 2019-03-01 00:19:51.760   \n",
       "\n",
       "  start_station_id                                start_station_name  \\\n",
       "0             4902  Montgomery St BART Station (Market St at 2nd St)   \n",
       "2             5905                           Market St at Dolores St   \n",
       "3             6638                           Grove St at Masonic Ave   \n",
       "4             4898                               Frank H Ogawa Plaza   \n",
       "5             5200                      4th St at Mission Bay Blvd S   \n",
       "\n",
       "   start_station_latitude  start_station_longitude end_station_id  \\\n",
       "0               37.789625              -122.400811           4902   \n",
       "2               37.769305              -122.426826           5905   \n",
       "3               37.774836              -122.446546           6638   \n",
       "4               37.804562              -122.271738           4898   \n",
       "5               37.770407              -122.391198           5200   \n",
       "\n",
       "                               end_station_name  end_station_latitude  ...  \\\n",
       "0                Commercial St at Montgomery St             37.794231  ...   \n",
       "2  Powell St BART Station (Market St at 4th St)             37.786375  ...   \n",
       "3                        Central Ave at Fell St             37.773311  ...   \n",
       "4                         10th Ave at E 15th St             37.792714  ...   \n",
       "5                            Broadway at Kearny             37.798014  ...   \n",
       "\n",
       "   bike_id   user_type member_birth_year  member_gender  \\\n",
       "0     4902    Customer              1984           Male   \n",
       "2     5905    Customer              1972           Male   \n",
       "3     6638  Subscriber              1989          Other   \n",
       "4     4898  Subscriber              1974           Male   \n",
       "5     5200  Subscriber              1959           Male   \n",
       "\n",
       "  bike_share_for_all_trip duration_minute  start_date start_hour  \\\n",
       "0                      No      869.750000  2019-02-28         17   \n",
       "2                      No     1030.900000  2019-02-28         12   \n",
       "3                      No      608.166667  2019-02-28         17   \n",
       "4                     Yes       26.416667  2019-02-28         23   \n",
       "5                      No       29.883333  2019-02-28         23   \n",
       "\n",
       "   start_dayofweek start_month  \n",
       "0         Thursday    February  \n",
       "2         Thursday    February  \n",
       "3         Thursday    February  \n",
       "4         Thursday    February  \n",
       "5         Thursday    February  \n",
       "\n",
       "[5 rows x 21 columns]"
      ]
     },
     "execution_count": 24,
     "metadata": {},
     "output_type": "execute_result"
    }
   ],
   "source": [
    "clean_df.head()"
   ]
  },
  {
   "cell_type": "code",
   "execution_count": 25,
   "metadata": {},
   "outputs": [
    {
     "name": "stdout",
     "output_type": "stream",
     "text": [
      "<class 'pandas.core.series.Series'>\n",
      "Int64Index: 174952 entries, 0 to 183411\n",
      "Series name: duration_minute\n",
      "Non-Null Count   Dtype  \n",
      "--------------   -----  \n",
      "174952 non-null  float64\n",
      "dtypes: float64(1)\n",
      "memory usage: 2.7 MB\n"
     ]
    }
   ],
   "source": [
    "clean_df['duration_minute'].info()"
   ]
  },
  {
   "cell_type": "markdown",
   "metadata": {},
   "source": [
    "## Member_age column"
   ]
  },
  {
   "cell_type": "markdown",
   "metadata": {},
   "source": [
    "#### Define\n",
    "- add a new column calculting the rider's age from 'member_birth_year`"
   ]
  },
  {
   "cell_type": "markdown",
   "metadata": {},
   "source": [
    "#### Code"
   ]
  },
  {
   "cell_type": "code",
   "execution_count": 26,
   "metadata": {},
   "outputs": [],
   "source": [
    "clean_df['age_member'] = 2019 - clean_df['member_birth_year']"
   ]
  },
  {
   "cell_type": "markdown",
   "metadata": {},
   "source": [
    "#### Test"
   ]
  },
  {
   "cell_type": "code",
   "execution_count": 27,
   "metadata": {},
   "outputs": [
    {
     "data": {
      "text/html": [
       "<div>\n",
       "<style scoped>\n",
       "    .dataframe tbody tr th:only-of-type {\n",
       "        vertical-align: middle;\n",
       "    }\n",
       "\n",
       "    .dataframe tbody tr th {\n",
       "        vertical-align: top;\n",
       "    }\n",
       "\n",
       "    .dataframe thead th {\n",
       "        text-align: right;\n",
       "    }\n",
       "</style>\n",
       "<table border=\"1\" class=\"dataframe\">\n",
       "  <thead>\n",
       "    <tr style=\"text-align: right;\">\n",
       "      <th></th>\n",
       "      <th>duration_sec</th>\n",
       "      <th>start_time</th>\n",
       "      <th>end_time</th>\n",
       "      <th>start_station_id</th>\n",
       "      <th>start_station_name</th>\n",
       "      <th>start_station_latitude</th>\n",
       "      <th>start_station_longitude</th>\n",
       "      <th>end_station_id</th>\n",
       "      <th>end_station_name</th>\n",
       "      <th>end_station_latitude</th>\n",
       "      <th>...</th>\n",
       "      <th>user_type</th>\n",
       "      <th>member_birth_year</th>\n",
       "      <th>member_gender</th>\n",
       "      <th>bike_share_for_all_trip</th>\n",
       "      <th>duration_minute</th>\n",
       "      <th>start_date</th>\n",
       "      <th>start_hour</th>\n",
       "      <th>start_dayofweek</th>\n",
       "      <th>start_month</th>\n",
       "      <th>age_member</th>\n",
       "    </tr>\n",
       "  </thead>\n",
       "  <tbody>\n",
       "    <tr>\n",
       "      <th>0</th>\n",
       "      <td>52185</td>\n",
       "      <td>2019-02-28 17:32:10.145</td>\n",
       "      <td>2019-03-01 08:01:55.975</td>\n",
       "      <td>4902</td>\n",
       "      <td>Montgomery St BART Station (Market St at 2nd St)</td>\n",
       "      <td>37.789625</td>\n",
       "      <td>-122.400811</td>\n",
       "      <td>4902</td>\n",
       "      <td>Commercial St at Montgomery St</td>\n",
       "      <td>37.794231</td>\n",
       "      <td>...</td>\n",
       "      <td>Customer</td>\n",
       "      <td>1984</td>\n",
       "      <td>Male</td>\n",
       "      <td>No</td>\n",
       "      <td>869.750000</td>\n",
       "      <td>2019-02-28</td>\n",
       "      <td>17</td>\n",
       "      <td>Thursday</td>\n",
       "      <td>February</td>\n",
       "      <td>35</td>\n",
       "    </tr>\n",
       "    <tr>\n",
       "      <th>2</th>\n",
       "      <td>61854</td>\n",
       "      <td>2019-02-28 12:13:13.218</td>\n",
       "      <td>2019-03-01 05:24:08.146</td>\n",
       "      <td>5905</td>\n",
       "      <td>Market St at Dolores St</td>\n",
       "      <td>37.769305</td>\n",
       "      <td>-122.426826</td>\n",
       "      <td>5905</td>\n",
       "      <td>Powell St BART Station (Market St at 4th St)</td>\n",
       "      <td>37.786375</td>\n",
       "      <td>...</td>\n",
       "      <td>Customer</td>\n",
       "      <td>1972</td>\n",
       "      <td>Male</td>\n",
       "      <td>No</td>\n",
       "      <td>1030.900000</td>\n",
       "      <td>2019-02-28</td>\n",
       "      <td>12</td>\n",
       "      <td>Thursday</td>\n",
       "      <td>February</td>\n",
       "      <td>47</td>\n",
       "    </tr>\n",
       "    <tr>\n",
       "      <th>3</th>\n",
       "      <td>36490</td>\n",
       "      <td>2019-02-28 17:54:26.010</td>\n",
       "      <td>2019-03-01 04:02:36.842</td>\n",
       "      <td>6638</td>\n",
       "      <td>Grove St at Masonic Ave</td>\n",
       "      <td>37.774836</td>\n",
       "      <td>-122.446546</td>\n",
       "      <td>6638</td>\n",
       "      <td>Central Ave at Fell St</td>\n",
       "      <td>37.773311</td>\n",
       "      <td>...</td>\n",
       "      <td>Subscriber</td>\n",
       "      <td>1989</td>\n",
       "      <td>Other</td>\n",
       "      <td>No</td>\n",
       "      <td>608.166667</td>\n",
       "      <td>2019-02-28</td>\n",
       "      <td>17</td>\n",
       "      <td>Thursday</td>\n",
       "      <td>February</td>\n",
       "      <td>30</td>\n",
       "    </tr>\n",
       "    <tr>\n",
       "      <th>4</th>\n",
       "      <td>1585</td>\n",
       "      <td>2019-02-28 23:54:18.549</td>\n",
       "      <td>2019-03-01 00:20:44.074</td>\n",
       "      <td>4898</td>\n",
       "      <td>Frank H Ogawa Plaza</td>\n",
       "      <td>37.804562</td>\n",
       "      <td>-122.271738</td>\n",
       "      <td>4898</td>\n",
       "      <td>10th Ave at E 15th St</td>\n",
       "      <td>37.792714</td>\n",
       "      <td>...</td>\n",
       "      <td>Subscriber</td>\n",
       "      <td>1974</td>\n",
       "      <td>Male</td>\n",
       "      <td>Yes</td>\n",
       "      <td>26.416667</td>\n",
       "      <td>2019-02-28</td>\n",
       "      <td>23</td>\n",
       "      <td>Thursday</td>\n",
       "      <td>February</td>\n",
       "      <td>45</td>\n",
       "    </tr>\n",
       "    <tr>\n",
       "      <th>5</th>\n",
       "      <td>1793</td>\n",
       "      <td>2019-02-28 23:49:58.632</td>\n",
       "      <td>2019-03-01 00:19:51.760</td>\n",
       "      <td>5200</td>\n",
       "      <td>4th St at Mission Bay Blvd S</td>\n",
       "      <td>37.770407</td>\n",
       "      <td>-122.391198</td>\n",
       "      <td>5200</td>\n",
       "      <td>Broadway at Kearny</td>\n",
       "      <td>37.798014</td>\n",
       "      <td>...</td>\n",
       "      <td>Subscriber</td>\n",
       "      <td>1959</td>\n",
       "      <td>Male</td>\n",
       "      <td>No</td>\n",
       "      <td>29.883333</td>\n",
       "      <td>2019-02-28</td>\n",
       "      <td>23</td>\n",
       "      <td>Thursday</td>\n",
       "      <td>February</td>\n",
       "      <td>60</td>\n",
       "    </tr>\n",
       "  </tbody>\n",
       "</table>\n",
       "<p>5 rows × 22 columns</p>\n",
       "</div>"
      ],
      "text/plain": [
       "   duration_sec              start_time                end_time  \\\n",
       "0         52185 2019-02-28 17:32:10.145 2019-03-01 08:01:55.975   \n",
       "2         61854 2019-02-28 12:13:13.218 2019-03-01 05:24:08.146   \n",
       "3         36490 2019-02-28 17:54:26.010 2019-03-01 04:02:36.842   \n",
       "4          1585 2019-02-28 23:54:18.549 2019-03-01 00:20:44.074   \n",
       "5          1793 2019-02-28 23:49:58.632 2019-03-01 00:19:51.760   \n",
       "\n",
       "  start_station_id                                start_station_name  \\\n",
       "0             4902  Montgomery St BART Station (Market St at 2nd St)   \n",
       "2             5905                           Market St at Dolores St   \n",
       "3             6638                           Grove St at Masonic Ave   \n",
       "4             4898                               Frank H Ogawa Plaza   \n",
       "5             5200                      4th St at Mission Bay Blvd S   \n",
       "\n",
       "   start_station_latitude  start_station_longitude end_station_id  \\\n",
       "0               37.789625              -122.400811           4902   \n",
       "2               37.769305              -122.426826           5905   \n",
       "3               37.774836              -122.446546           6638   \n",
       "4               37.804562              -122.271738           4898   \n",
       "5               37.770407              -122.391198           5200   \n",
       "\n",
       "                               end_station_name  end_station_latitude  ...  \\\n",
       "0                Commercial St at Montgomery St             37.794231  ...   \n",
       "2  Powell St BART Station (Market St at 4th St)             37.786375  ...   \n",
       "3                        Central Ave at Fell St             37.773311  ...   \n",
       "4                         10th Ave at E 15th St             37.792714  ...   \n",
       "5                            Broadway at Kearny             37.798014  ...   \n",
       "\n",
       "    user_type member_birth_year member_gender  bike_share_for_all_trip  \\\n",
       "0    Customer              1984          Male                       No   \n",
       "2    Customer              1972          Male                       No   \n",
       "3  Subscriber              1989         Other                       No   \n",
       "4  Subscriber              1974          Male                      Yes   \n",
       "5  Subscriber              1959          Male                       No   \n",
       "\n",
       "  duration_minute  start_date  start_hour start_dayofweek  start_month  \\\n",
       "0      869.750000  2019-02-28          17        Thursday     February   \n",
       "2     1030.900000  2019-02-28          12        Thursday     February   \n",
       "3      608.166667  2019-02-28          17        Thursday     February   \n",
       "4       26.416667  2019-02-28          23        Thursday     February   \n",
       "5       29.883333  2019-02-28          23        Thursday     February   \n",
       "\n",
       "  age_member  \n",
       "0         35  \n",
       "2         47  \n",
       "3         30  \n",
       "4         45  \n",
       "5         60  \n",
       "\n",
       "[5 rows x 22 columns]"
      ]
     },
     "execution_count": 27,
     "metadata": {},
     "output_type": "execute_result"
    }
   ],
   "source": [
    "clean_df.head()"
   ]
  },
  {
   "cell_type": "code",
   "execution_count": 28,
   "metadata": {},
   "outputs": [
    {
     "data": {
      "text/plain": [
       "duration_sec               192\n",
       "start_time                 192\n",
       "end_time                   192\n",
       "start_station_id           192\n",
       "start_station_name         192\n",
       "start_station_latitude     192\n",
       "start_station_longitude    192\n",
       "end_station_id             192\n",
       "end_station_name           192\n",
       "end_station_latitude       192\n",
       "end_station_longitude      192\n",
       "bike_id                    192\n",
       "user_type                  192\n",
       "member_birth_year          192\n",
       "member_gender              192\n",
       "bike_share_for_all_trip    192\n",
       "duration_minute            192\n",
       "start_date                 192\n",
       "start_hour                 192\n",
       "start_dayofweek            192\n",
       "start_month                192\n",
       "age_member                 192\n",
       "dtype: int64"
      ]
     },
     "execution_count": 28,
     "metadata": {},
     "output_type": "execute_result"
    }
   ],
   "source": [
    "#checking for those whose age is greater than 80\n",
    "clean_df[clean_df.age_member > 80].count()"
   ]
  },
  {
   "cell_type": "code",
   "execution_count": 29,
   "metadata": {},
   "outputs": [
    {
     "name": "stdout",
     "output_type": "stream",
     "text": [
      "<class 'pandas.core.frame.DataFrame'>\n",
      "Int64Index: 174952 entries, 0 to 183411\n",
      "Data columns (total 22 columns):\n",
      " #   Column                   Non-Null Count   Dtype         \n",
      "---  ------                   --------------   -----         \n",
      " 0   duration_sec             174952 non-null  int64         \n",
      " 1   start_time               174952 non-null  datetime64[ns]\n",
      " 2   end_time                 174952 non-null  datetime64[ns]\n",
      " 3   start_station_id         174952 non-null  object        \n",
      " 4   start_station_name       174952 non-null  object        \n",
      " 5   start_station_latitude   174952 non-null  float64       \n",
      " 6   start_station_longitude  174952 non-null  float64       \n",
      " 7   end_station_id           174952 non-null  object        \n",
      " 8   end_station_name         174952 non-null  object        \n",
      " 9   end_station_latitude     174952 non-null  float64       \n",
      " 10  end_station_longitude    174952 non-null  float64       \n",
      " 11  bike_id                  174952 non-null  object        \n",
      " 12  user_type                174952 non-null  category      \n",
      " 13  member_birth_year        174952 non-null  int32         \n",
      " 14  member_gender            174952 non-null  category      \n",
      " 15  bike_share_for_all_trip  174952 non-null  category      \n",
      " 16  duration_minute          174952 non-null  float64       \n",
      " 17  start_date               174952 non-null  object        \n",
      " 18  start_hour               174952 non-null  int64         \n",
      " 19  start_dayofweek          174952 non-null  object        \n",
      " 20  start_month              174952 non-null  object        \n",
      " 21  age_member               174952 non-null  int32         \n",
      "dtypes: category(3), datetime64[ns](2), float64(5), int32(2), int64(2), object(8)\n",
      "memory usage: 25.9+ MB\n"
     ]
    }
   ],
   "source": [
    "#change data type of age_member to int type\n",
    "clean_df['age_member'] = clean_df['age_member'].astype('int')\n",
    "clean_df.info()"
   ]
  },
  {
   "cell_type": "code",
   "execution_count": 30,
   "metadata": {},
   "outputs": [
    {
     "data": {
      "text/html": [
       "<div>\n",
       "<style scoped>\n",
       "    .dataframe tbody tr th:only-of-type {\n",
       "        vertical-align: middle;\n",
       "    }\n",
       "\n",
       "    .dataframe tbody tr th {\n",
       "        vertical-align: top;\n",
       "    }\n",
       "\n",
       "    .dataframe thead th {\n",
       "        text-align: right;\n",
       "    }\n",
       "</style>\n",
       "<table border=\"1\" class=\"dataframe\">\n",
       "  <thead>\n",
       "    <tr style=\"text-align: right;\">\n",
       "      <th></th>\n",
       "      <th>duration_sec</th>\n",
       "      <th>start_time</th>\n",
       "      <th>end_time</th>\n",
       "      <th>start_station_id</th>\n",
       "      <th>start_station_name</th>\n",
       "      <th>start_station_latitude</th>\n",
       "      <th>start_station_longitude</th>\n",
       "      <th>end_station_id</th>\n",
       "      <th>end_station_name</th>\n",
       "      <th>end_station_latitude</th>\n",
       "      <th>...</th>\n",
       "      <th>user_type</th>\n",
       "      <th>member_birth_year</th>\n",
       "      <th>member_gender</th>\n",
       "      <th>bike_share_for_all_trip</th>\n",
       "      <th>duration_minute</th>\n",
       "      <th>start_date</th>\n",
       "      <th>start_hour</th>\n",
       "      <th>start_dayofweek</th>\n",
       "      <th>start_month</th>\n",
       "      <th>age_member</th>\n",
       "    </tr>\n",
       "  </thead>\n",
       "  <tbody>\n",
       "    <tr>\n",
       "      <th>0</th>\n",
       "      <td>52185</td>\n",
       "      <td>2019-02-28 17:32:10.145</td>\n",
       "      <td>2019-03-01 08:01:55.975</td>\n",
       "      <td>4902</td>\n",
       "      <td>Montgomery St BART Station (Market St at 2nd St)</td>\n",
       "      <td>37.789625</td>\n",
       "      <td>-122.400811</td>\n",
       "      <td>4902</td>\n",
       "      <td>Commercial St at Montgomery St</td>\n",
       "      <td>37.794231</td>\n",
       "      <td>...</td>\n",
       "      <td>Customer</td>\n",
       "      <td>1984</td>\n",
       "      <td>Male</td>\n",
       "      <td>No</td>\n",
       "      <td>869.750000</td>\n",
       "      <td>2019-02-28</td>\n",
       "      <td>17</td>\n",
       "      <td>Thursday</td>\n",
       "      <td>February</td>\n",
       "      <td>35</td>\n",
       "    </tr>\n",
       "    <tr>\n",
       "      <th>2</th>\n",
       "      <td>61854</td>\n",
       "      <td>2019-02-28 12:13:13.218</td>\n",
       "      <td>2019-03-01 05:24:08.146</td>\n",
       "      <td>5905</td>\n",
       "      <td>Market St at Dolores St</td>\n",
       "      <td>37.769305</td>\n",
       "      <td>-122.426826</td>\n",
       "      <td>5905</td>\n",
       "      <td>Powell St BART Station (Market St at 4th St)</td>\n",
       "      <td>37.786375</td>\n",
       "      <td>...</td>\n",
       "      <td>Customer</td>\n",
       "      <td>1972</td>\n",
       "      <td>Male</td>\n",
       "      <td>No</td>\n",
       "      <td>1030.900000</td>\n",
       "      <td>2019-02-28</td>\n",
       "      <td>12</td>\n",
       "      <td>Thursday</td>\n",
       "      <td>February</td>\n",
       "      <td>47</td>\n",
       "    </tr>\n",
       "    <tr>\n",
       "      <th>3</th>\n",
       "      <td>36490</td>\n",
       "      <td>2019-02-28 17:54:26.010</td>\n",
       "      <td>2019-03-01 04:02:36.842</td>\n",
       "      <td>6638</td>\n",
       "      <td>Grove St at Masonic Ave</td>\n",
       "      <td>37.774836</td>\n",
       "      <td>-122.446546</td>\n",
       "      <td>6638</td>\n",
       "      <td>Central Ave at Fell St</td>\n",
       "      <td>37.773311</td>\n",
       "      <td>...</td>\n",
       "      <td>Subscriber</td>\n",
       "      <td>1989</td>\n",
       "      <td>Other</td>\n",
       "      <td>No</td>\n",
       "      <td>608.166667</td>\n",
       "      <td>2019-02-28</td>\n",
       "      <td>17</td>\n",
       "      <td>Thursday</td>\n",
       "      <td>February</td>\n",
       "      <td>30</td>\n",
       "    </tr>\n",
       "    <tr>\n",
       "      <th>4</th>\n",
       "      <td>1585</td>\n",
       "      <td>2019-02-28 23:54:18.549</td>\n",
       "      <td>2019-03-01 00:20:44.074</td>\n",
       "      <td>4898</td>\n",
       "      <td>Frank H Ogawa Plaza</td>\n",
       "      <td>37.804562</td>\n",
       "      <td>-122.271738</td>\n",
       "      <td>4898</td>\n",
       "      <td>10th Ave at E 15th St</td>\n",
       "      <td>37.792714</td>\n",
       "      <td>...</td>\n",
       "      <td>Subscriber</td>\n",
       "      <td>1974</td>\n",
       "      <td>Male</td>\n",
       "      <td>Yes</td>\n",
       "      <td>26.416667</td>\n",
       "      <td>2019-02-28</td>\n",
       "      <td>23</td>\n",
       "      <td>Thursday</td>\n",
       "      <td>February</td>\n",
       "      <td>45</td>\n",
       "    </tr>\n",
       "    <tr>\n",
       "      <th>5</th>\n",
       "      <td>1793</td>\n",
       "      <td>2019-02-28 23:49:58.632</td>\n",
       "      <td>2019-03-01 00:19:51.760</td>\n",
       "      <td>5200</td>\n",
       "      <td>4th St at Mission Bay Blvd S</td>\n",
       "      <td>37.770407</td>\n",
       "      <td>-122.391198</td>\n",
       "      <td>5200</td>\n",
       "      <td>Broadway at Kearny</td>\n",
       "      <td>37.798014</td>\n",
       "      <td>...</td>\n",
       "      <td>Subscriber</td>\n",
       "      <td>1959</td>\n",
       "      <td>Male</td>\n",
       "      <td>No</td>\n",
       "      <td>29.883333</td>\n",
       "      <td>2019-02-28</td>\n",
       "      <td>23</td>\n",
       "      <td>Thursday</td>\n",
       "      <td>February</td>\n",
       "      <td>60</td>\n",
       "    </tr>\n",
       "  </tbody>\n",
       "</table>\n",
       "<p>5 rows × 22 columns</p>\n",
       "</div>"
      ],
      "text/plain": [
       "   duration_sec              start_time                end_time  \\\n",
       "0         52185 2019-02-28 17:32:10.145 2019-03-01 08:01:55.975   \n",
       "2         61854 2019-02-28 12:13:13.218 2019-03-01 05:24:08.146   \n",
       "3         36490 2019-02-28 17:54:26.010 2019-03-01 04:02:36.842   \n",
       "4          1585 2019-02-28 23:54:18.549 2019-03-01 00:20:44.074   \n",
       "5          1793 2019-02-28 23:49:58.632 2019-03-01 00:19:51.760   \n",
       "\n",
       "  start_station_id                                start_station_name  \\\n",
       "0             4902  Montgomery St BART Station (Market St at 2nd St)   \n",
       "2             5905                           Market St at Dolores St   \n",
       "3             6638                           Grove St at Masonic Ave   \n",
       "4             4898                               Frank H Ogawa Plaza   \n",
       "5             5200                      4th St at Mission Bay Blvd S   \n",
       "\n",
       "   start_station_latitude  start_station_longitude end_station_id  \\\n",
       "0               37.789625              -122.400811           4902   \n",
       "2               37.769305              -122.426826           5905   \n",
       "3               37.774836              -122.446546           6638   \n",
       "4               37.804562              -122.271738           4898   \n",
       "5               37.770407              -122.391198           5200   \n",
       "\n",
       "                               end_station_name  end_station_latitude  ...  \\\n",
       "0                Commercial St at Montgomery St             37.794231  ...   \n",
       "2  Powell St BART Station (Market St at 4th St)             37.786375  ...   \n",
       "3                        Central Ave at Fell St             37.773311  ...   \n",
       "4                         10th Ave at E 15th St             37.792714  ...   \n",
       "5                            Broadway at Kearny             37.798014  ...   \n",
       "\n",
       "    user_type member_birth_year member_gender  bike_share_for_all_trip  \\\n",
       "0    Customer              1984          Male                       No   \n",
       "2    Customer              1972          Male                       No   \n",
       "3  Subscriber              1989         Other                       No   \n",
       "4  Subscriber              1974          Male                      Yes   \n",
       "5  Subscriber              1959          Male                       No   \n",
       "\n",
       "  duration_minute  start_date  start_hour start_dayofweek  start_month  \\\n",
       "0      869.750000  2019-02-28          17        Thursday     February   \n",
       "2     1030.900000  2019-02-28          12        Thursday     February   \n",
       "3      608.166667  2019-02-28          17        Thursday     February   \n",
       "4       26.416667  2019-02-28          23        Thursday     February   \n",
       "5       29.883333  2019-02-28          23        Thursday     February   \n",
       "\n",
       "  age_member  \n",
       "0         35  \n",
       "2         47  \n",
       "3         30  \n",
       "4         45  \n",
       "5         60  \n",
       "\n",
       "[5 rows x 22 columns]"
      ]
     },
     "execution_count": 30,
     "metadata": {},
     "output_type": "execute_result"
    }
   ],
   "source": [
    "clean_df.head()"
   ]
  },
  {
   "cell_type": "code",
   "execution_count": 31,
   "metadata": {},
   "outputs": [
    {
     "data": {
      "text/plain": [
       "(174952, 22)"
      ]
     },
     "execution_count": 31,
     "metadata": {},
     "output_type": "execute_result"
    }
   ],
   "source": [
    "clean_df.shape"
   ]
  },
  {
   "cell_type": "markdown",
   "metadata": {},
   "source": [
    "### What is the structure of your dataset?\n",
    "\n",
    "> - The original dataset contained a total of 183412 individual trip records with 16 variables collected. \n",
    "> - The variables can be divided into 3 major categories:\n",
    "\n",
    "> - **trip duration** : `duration_sec, start_time, end_time`\n",
    "> - **station info**: `start_station_id, start_station_name, start_station_latitude, start_station_longitude, end_station_id, end_station_name, end_station_latitude, end_station_longitude`\n",
    "> - **members info**: `bike_id, user_type, member_birth_year, member_gender, bike_share_for_all_trip`\n",
    "> \n",
    "\n",
    "*After assessment of data and cleaning, the dataset contains a total of 174760 individual trip records and 23 varibales collected.*\n",
    "\n",
    "**Derived variables to assist exploration and analysis**\n",
    "\n",
    "- trip info: `duration_minute, duration_hours, start_date, start_hourofday, start_dayofweek, start_month`\n",
    "- Member: `age_member`\n",
    "\n",
    "### What is/are the main feature(s) of interest in your dataset?\n",
    "**I'm more interested in the following topics:**\n",
    "1. When are most trips taken in terms of time of day, day of the week, or month of the year?\n",
    "2. How long does the average trip take?\n",
    "3. Does the above depend on if a user is a subscriber or customer?\n",
    "4. How trip duration is dependent on other specifications from the dataset.\n",
    "\n",
    "### What features in the dataset do you think will help support your investigation into your feature(s) of interest?\n",
    "\n",
    "1. Each trip's start date/time and duration information will help understanding how long a trip usually takes and when.\n",
    "2. I expect trip duration to relate to certain days of the week and certain months\n",
    "3. Use the duration column to check how long an average trip took.\n",
    "4. The member information like user type, gender etc will help us know if know if they affect duration of trip and also use member information to investigate other patterns in the dataset."
   ]
  },
  {
   "cell_type": "markdown",
   "metadata": {},
   "source": [
    "## Univariate Exploration\n",
    "\n",
    "> In this section, investigate distributions of individual variables. If\n",
    "you see unusual points or outliers, take a deeper look to clean things up\n",
    "and prepare yourself to look at relationships between variables.\n",
    "\n",
    "\n",
    "> **Rubric Tip**: The project (Parts I alone) should have at least 15 visualizations distributed over univariate, bivariate, and multivariate plots to explore many relationships in the data set.  Use reasoning to justify the flow of the exploration.\n",
    "\n",
    "\n",
    "\n",
    ">**Rubric Tip**: Use the \"Question-Visualization-Observations\" framework  throughout the exploration. This framework involves **asking a question from the data, creating a visualization to find answers, and then recording observations after each visualisation.** \n"
   ]
  },
  {
   "cell_type": "markdown",
   "metadata": {},
   "source": [
    "\n",
    "\n",
    ">**Rubric Tip**: Visualizations should depict the data appropriately so that the plots are easily interpretable. You should choose an appropriate plot type, data encodings, and formatting as needed. The formatting may include setting/adding the title, labels, legend, and comments. Also, do not overplot or incorrectly plot ordinal data."
   ]
  },
  {
   "cell_type": "markdown",
   "metadata": {},
   "source": [
    "## Member's Age"
   ]
  },
  {
   "cell_type": "markdown",
   "metadata": {},
   "source": [
    "### **How is the rider's age distributed? are there outliers in the member's age?**"
   ]
  },
  {
   "cell_type": "code",
   "execution_count": 32,
   "metadata": {},
   "outputs": [
    {
     "data": {
      "image/png": "[encoded data removed]",
      "text/plain": [
       "<Figure size 720x432 with 1 Axes>"
      ]
     },
     "metadata": {
      "needs_background": "light"
     },
     "output_type": "display_data"
    }
   ],
   "source": [
    "# plot a distribution of age_member to visually examine the outliers\n",
    "\n",
    "plt.figure(figsize=[10, 6])\n",
    "bins = np.arange(0, clean_df['age_member'].max()+5, 5)\n",
    "plt.hist(clean_df['age_member'], bins=bins);\n",
    "plt.xlabel('Member Age');\n",
    "plt.ylabel('Count');"
   ]
  },
  {
   "cell_type": "markdown",
   "metadata": {},
   "source": [
    "> **observation**:From the plotted histogram,we can observe values greater than 80-120 years old which in my case will be outliers as it's not reasonable to have ridersbeyond age 80. Some might be able to ride but they are only a few cases. So I will concentrate on rider below or equal to 80years old.  "
   ]
  },
  {
   "cell_type": "code",
   "execution_count": 33,
   "metadata": {},
   "outputs": [
    {
     "data": {
      "text/html": [
       "<div>\n",
       "<style scoped>\n",
       "    .dataframe tbody tr th:only-of-type {\n",
       "        vertical-align: middle;\n",
       "    }\n",
       "\n",
       "    .dataframe tbody tr th {\n",
       "        vertical-align: top;\n",
       "    }\n",
       "\n",
       "    .dataframe thead th {\n",
       "        text-align: right;\n",
       "    }\n",
       "</style>\n",
       "<table border=\"1\" class=\"dataframe\">\n",
       "  <thead>\n",
       "    <tr style=\"text-align: right;\">\n",
       "      <th></th>\n",
       "      <th>duration_sec</th>\n",
       "      <th>start_time</th>\n",
       "      <th>end_time</th>\n",
       "      <th>start_station_id</th>\n",
       "      <th>start_station_name</th>\n",
       "      <th>start_station_latitude</th>\n",
       "      <th>start_station_longitude</th>\n",
       "      <th>end_station_id</th>\n",
       "      <th>end_station_name</th>\n",
       "      <th>end_station_latitude</th>\n",
       "      <th>...</th>\n",
       "      <th>user_type</th>\n",
       "      <th>member_birth_year</th>\n",
       "      <th>member_gender</th>\n",
       "      <th>bike_share_for_all_trip</th>\n",
       "      <th>duration_minute</th>\n",
       "      <th>start_date</th>\n",
       "      <th>start_hour</th>\n",
       "      <th>start_dayofweek</th>\n",
       "      <th>start_month</th>\n",
       "      <th>age_member</th>\n",
       "    </tr>\n",
       "  </thead>\n",
       "  <tbody>\n",
       "    <tr>\n",
       "      <th>51511</th>\n",
       "      <td>315</td>\n",
       "      <td>2019-02-21 18:01:24.065</td>\n",
       "      <td>2019-02-21 18:06:39.799</td>\n",
       "      <td>5255</td>\n",
       "      <td>The Embarcadero at Sansome St</td>\n",
       "      <td>37.804770</td>\n",
       "      <td>-122.403234</td>\n",
       "      <td>5255</td>\n",
       "      <td>Broadway at Kearny</td>\n",
       "      <td>37.798014</td>\n",
       "      <td>...</td>\n",
       "      <td>Subscriber</td>\n",
       "      <td>1980</td>\n",
       "      <td>Male</td>\n",
       "      <td>No</td>\n",
       "      <td>5.250000</td>\n",
       "      <td>2019-02-21</td>\n",
       "      <td>18</td>\n",
       "      <td>Thursday</td>\n",
       "      <td>February</td>\n",
       "      <td>39</td>\n",
       "    </tr>\n",
       "    <tr>\n",
       "      <th>63952</th>\n",
       "      <td>775</td>\n",
       "      <td>2019-02-20 13:18:05.550</td>\n",
       "      <td>2019-02-20 13:31:00.647</td>\n",
       "      <td>5032</td>\n",
       "      <td>Harrison St at 17th St</td>\n",
       "      <td>37.763847</td>\n",
       "      <td>-122.413004</td>\n",
       "      <td>5032</td>\n",
       "      <td>Howard St at Mary St</td>\n",
       "      <td>37.781010</td>\n",
       "      <td>...</td>\n",
       "      <td>Subscriber</td>\n",
       "      <td>1990</td>\n",
       "      <td>Male</td>\n",
       "      <td>No</td>\n",
       "      <td>12.916667</td>\n",
       "      <td>2019-02-20</td>\n",
       "      <td>13</td>\n",
       "      <td>Wednesday</td>\n",
       "      <td>February</td>\n",
       "      <td>29</td>\n",
       "    </tr>\n",
       "    <tr>\n",
       "      <th>43134</th>\n",
       "      <td>469</td>\n",
       "      <td>2019-02-22 16:56:08.055</td>\n",
       "      <td>2019-02-22 17:03:57.817</td>\n",
       "      <td>1992</td>\n",
       "      <td>Howard St at Beale St</td>\n",
       "      <td>37.789756</td>\n",
       "      <td>-122.394643</td>\n",
       "      <td>1992</td>\n",
       "      <td>San Francisco Caltrain (Townsend St at 4th St)</td>\n",
       "      <td>37.776598</td>\n",
       "      <td>...</td>\n",
       "      <td>Subscriber</td>\n",
       "      <td>1975</td>\n",
       "      <td>Male</td>\n",
       "      <td>No</td>\n",
       "      <td>7.816667</td>\n",
       "      <td>2019-02-22</td>\n",
       "      <td>16</td>\n",
       "      <td>Friday</td>\n",
       "      <td>February</td>\n",
       "      <td>44</td>\n",
       "    </tr>\n",
       "    <tr>\n",
       "      <th>44980</th>\n",
       "      <td>87</td>\n",
       "      <td>2019-02-22 13:25:58.427</td>\n",
       "      <td>2019-02-22 13:27:25.658</td>\n",
       "      <td>2293</td>\n",
       "      <td>Broderick St at Oak St</td>\n",
       "      <td>37.773063</td>\n",
       "      <td>-122.439078</td>\n",
       "      <td>2293</td>\n",
       "      <td>Page St at Scott St</td>\n",
       "      <td>37.772406</td>\n",
       "      <td>...</td>\n",
       "      <td>Subscriber</td>\n",
       "      <td>1964</td>\n",
       "      <td>Male</td>\n",
       "      <td>No</td>\n",
       "      <td>1.450000</td>\n",
       "      <td>2019-02-22</td>\n",
       "      <td>13</td>\n",
       "      <td>Friday</td>\n",
       "      <td>February</td>\n",
       "      <td>55</td>\n",
       "    </tr>\n",
       "    <tr>\n",
       "      <th>138871</th>\n",
       "      <td>121</td>\n",
       "      <td>2019-02-08 02:23:22.491</td>\n",
       "      <td>2019-02-08 02:25:24.424</td>\n",
       "      <td>4693</td>\n",
       "      <td>Bancroft Way at College Ave</td>\n",
       "      <td>37.869360</td>\n",
       "      <td>-122.254337</td>\n",
       "      <td>4693</td>\n",
       "      <td>Haste St at Telegraph Ave</td>\n",
       "      <td>37.866043</td>\n",
       "      <td>...</td>\n",
       "      <td>Subscriber</td>\n",
       "      <td>1998</td>\n",
       "      <td>Male</td>\n",
       "      <td>Yes</td>\n",
       "      <td>2.016667</td>\n",
       "      <td>2019-02-08</td>\n",
       "      <td>2</td>\n",
       "      <td>Friday</td>\n",
       "      <td>February</td>\n",
       "      <td>21</td>\n",
       "    </tr>\n",
       "    <tr>\n",
       "      <th>17879</th>\n",
       "      <td>530</td>\n",
       "      <td>2019-02-26 20:16:32.322</td>\n",
       "      <td>2019-02-26 20:25:22.422</td>\n",
       "      <td>3986</td>\n",
       "      <td>San Fernando St at 4th St</td>\n",
       "      <td>37.335885</td>\n",
       "      <td>-121.885660</td>\n",
       "      <td>3986</td>\n",
       "      <td>5th St at Virginia St</td>\n",
       "      <td>37.325998</td>\n",
       "      <td>...</td>\n",
       "      <td>Subscriber</td>\n",
       "      <td>1993</td>\n",
       "      <td>Male</td>\n",
       "      <td>Yes</td>\n",
       "      <td>8.833333</td>\n",
       "      <td>2019-02-26</td>\n",
       "      <td>20</td>\n",
       "      <td>Tuesday</td>\n",
       "      <td>February</td>\n",
       "      <td>26</td>\n",
       "    </tr>\n",
       "    <tr>\n",
       "      <th>24642</th>\n",
       "      <td>532</td>\n",
       "      <td>2019-02-25 17:56:56.588</td>\n",
       "      <td>2019-02-25 18:05:49.429</td>\n",
       "      <td>5132</td>\n",
       "      <td>Berry St at 4th St</td>\n",
       "      <td>37.775880</td>\n",
       "      <td>-122.393170</td>\n",
       "      <td>5132</td>\n",
       "      <td>Beale St at Harrison St</td>\n",
       "      <td>37.788059</td>\n",
       "      <td>...</td>\n",
       "      <td>Subscriber</td>\n",
       "      <td>1992</td>\n",
       "      <td>Male</td>\n",
       "      <td>No</td>\n",
       "      <td>8.866667</td>\n",
       "      <td>2019-02-25</td>\n",
       "      <td>17</td>\n",
       "      <td>Monday</td>\n",
       "      <td>February</td>\n",
       "      <td>27</td>\n",
       "    </tr>\n",
       "    <tr>\n",
       "      <th>22329</th>\n",
       "      <td>182</td>\n",
       "      <td>2019-02-26 08:19:23.919</td>\n",
       "      <td>2019-02-26 08:22:26.167</td>\n",
       "      <td>291</td>\n",
       "      <td>Townsend St at 5th St</td>\n",
       "      <td>37.775235</td>\n",
       "      <td>-122.397437</td>\n",
       "      <td>291</td>\n",
       "      <td>Townsend St at 7th St</td>\n",
       "      <td>37.771058</td>\n",
       "      <td>...</td>\n",
       "      <td>Subscriber</td>\n",
       "      <td>1986</td>\n",
       "      <td>Female</td>\n",
       "      <td>No</td>\n",
       "      <td>3.033333</td>\n",
       "      <td>2019-02-26</td>\n",
       "      <td>8</td>\n",
       "      <td>Tuesday</td>\n",
       "      <td>February</td>\n",
       "      <td>33</td>\n",
       "    </tr>\n",
       "    <tr>\n",
       "      <th>179909</th>\n",
       "      <td>884</td>\n",
       "      <td>2019-02-01 12:23:12.998</td>\n",
       "      <td>2019-02-01 12:37:57.844</td>\n",
       "      <td>4914</td>\n",
       "      <td>Telegraph Ave at 27th St</td>\n",
       "      <td>37.816073</td>\n",
       "      <td>-122.267886</td>\n",
       "      <td>4914</td>\n",
       "      <td>Frank H Ogawa Plaza</td>\n",
       "      <td>37.804562</td>\n",
       "      <td>...</td>\n",
       "      <td>Customer</td>\n",
       "      <td>1988</td>\n",
       "      <td>Female</td>\n",
       "      <td>No</td>\n",
       "      <td>14.733333</td>\n",
       "      <td>2019-02-01</td>\n",
       "      <td>12</td>\n",
       "      <td>Friday</td>\n",
       "      <td>February</td>\n",
       "      <td>31</td>\n",
       "    </tr>\n",
       "    <tr>\n",
       "      <th>55720</th>\n",
       "      <td>432</td>\n",
       "      <td>2019-02-21 09:43:21.762</td>\n",
       "      <td>2019-02-21 09:50:34.396</td>\n",
       "      <td>6370</td>\n",
       "      <td>Ryland Park</td>\n",
       "      <td>37.342725</td>\n",
       "      <td>-121.895617</td>\n",
       "      <td>6370</td>\n",
       "      <td>San Fernando St at 4th St</td>\n",
       "      <td>37.335885</td>\n",
       "      <td>...</td>\n",
       "      <td>Subscriber</td>\n",
       "      <td>1993</td>\n",
       "      <td>Male</td>\n",
       "      <td>Yes</td>\n",
       "      <td>7.200000</td>\n",
       "      <td>2019-02-21</td>\n",
       "      <td>9</td>\n",
       "      <td>Thursday</td>\n",
       "      <td>February</td>\n",
       "      <td>26</td>\n",
       "    </tr>\n",
       "    <tr>\n",
       "      <th>17103</th>\n",
       "      <td>990</td>\n",
       "      <td>2019-02-27 07:28:16.130</td>\n",
       "      <td>2019-02-27 07:44:46.732</td>\n",
       "      <td>5383</td>\n",
       "      <td>24th St at Bartlett St</td>\n",
       "      <td>37.752105</td>\n",
       "      <td>-122.419724</td>\n",
       "      <td>5383</td>\n",
       "      <td>5th St at Brannan St</td>\n",
       "      <td>37.776754</td>\n",
       "      <td>...</td>\n",
       "      <td>Subscriber</td>\n",
       "      <td>1988</td>\n",
       "      <td>Male</td>\n",
       "      <td>No</td>\n",
       "      <td>16.500000</td>\n",
       "      <td>2019-02-27</td>\n",
       "      <td>7</td>\n",
       "      <td>Wednesday</td>\n",
       "      <td>February</td>\n",
       "      <td>31</td>\n",
       "    </tr>\n",
       "    <tr>\n",
       "      <th>181128</th>\n",
       "      <td>232</td>\n",
       "      <td>2019-02-01 09:33:25.975</td>\n",
       "      <td>2019-02-01 09:37:18.327</td>\n",
       "      <td>2989</td>\n",
       "      <td>Alcatraz Ave at Shattuck Ave</td>\n",
       "      <td>37.849595</td>\n",
       "      <td>-122.265569</td>\n",
       "      <td>2989</td>\n",
       "      <td>Ashby BART Station</td>\n",
       "      <td>37.852477</td>\n",
       "      <td>...</td>\n",
       "      <td>Subscriber</td>\n",
       "      <td>1986</td>\n",
       "      <td>Male</td>\n",
       "      <td>No</td>\n",
       "      <td>3.866667</td>\n",
       "      <td>2019-02-01</td>\n",
       "      <td>9</td>\n",
       "      <td>Friday</td>\n",
       "      <td>February</td>\n",
       "      <td>33</td>\n",
       "    </tr>\n",
       "    <tr>\n",
       "      <th>3843</th>\n",
       "      <td>482</td>\n",
       "      <td>2019-02-28 16:52:05.013</td>\n",
       "      <td>2019-02-28 17:00:07.916</td>\n",
       "      <td>5253</td>\n",
       "      <td>Montgomery St BART Station (Market St at 2nd St)</td>\n",
       "      <td>37.789625</td>\n",
       "      <td>-122.400811</td>\n",
       "      <td>5253</td>\n",
       "      <td>San Francisco Caltrain (Townsend St at 4th St)</td>\n",
       "      <td>37.776598</td>\n",
       "      <td>...</td>\n",
       "      <td>Subscriber</td>\n",
       "      <td>1988</td>\n",
       "      <td>Male</td>\n",
       "      <td>No</td>\n",
       "      <td>8.033333</td>\n",
       "      <td>2019-02-28</td>\n",
       "      <td>16</td>\n",
       "      <td>Thursday</td>\n",
       "      <td>February</td>\n",
       "      <td>31</td>\n",
       "    </tr>\n",
       "    <tr>\n",
       "      <th>29327</th>\n",
       "      <td>496</td>\n",
       "      <td>2019-02-25 07:34:23.989</td>\n",
       "      <td>2019-02-25 07:42:40.633</td>\n",
       "      <td>5346</td>\n",
       "      <td>Berry St at 4th St</td>\n",
       "      <td>37.775880</td>\n",
       "      <td>-122.393170</td>\n",
       "      <td>5346</td>\n",
       "      <td>Beale St at Harrison St</td>\n",
       "      <td>37.788059</td>\n",
       "      <td>...</td>\n",
       "      <td>Subscriber</td>\n",
       "      <td>1979</td>\n",
       "      <td>Male</td>\n",
       "      <td>No</td>\n",
       "      <td>8.266667</td>\n",
       "      <td>2019-02-25</td>\n",
       "      <td>7</td>\n",
       "      <td>Monday</td>\n",
       "      <td>February</td>\n",
       "      <td>40</td>\n",
       "    </tr>\n",
       "    <tr>\n",
       "      <th>169988</th>\n",
       "      <td>1216</td>\n",
       "      <td>2019-02-04 08:31:45.751</td>\n",
       "      <td>2019-02-04 08:52:02.744</td>\n",
       "      <td>3709</td>\n",
       "      <td>San Francisco Caltrain Station 2  (Townsend St...</td>\n",
       "      <td>37.776639</td>\n",
       "      <td>-122.395526</td>\n",
       "      <td>3709</td>\n",
       "      <td>Broadway at Battery St</td>\n",
       "      <td>37.798572</td>\n",
       "      <td>...</td>\n",
       "      <td>Subscriber</td>\n",
       "      <td>1967</td>\n",
       "      <td>Male</td>\n",
       "      <td>No</td>\n",
       "      <td>20.266667</td>\n",
       "      <td>2019-02-04</td>\n",
       "      <td>8</td>\n",
       "      <td>Monday</td>\n",
       "      <td>February</td>\n",
       "      <td>52</td>\n",
       "    </tr>\n",
       "  </tbody>\n",
       "</table>\n",
       "<p>15 rows × 22 columns</p>\n",
       "</div>"
      ],
      "text/plain": [
       "        duration_sec              start_time                end_time  \\\n",
       "51511            315 2019-02-21 18:01:24.065 2019-02-21 18:06:39.799   \n",
       "63952            775 2019-02-20 13:18:05.550 2019-02-20 13:31:00.647   \n",
       "43134            469 2019-02-22 16:56:08.055 2019-02-22 17:03:57.817   \n",
       "44980             87 2019-02-22 13:25:58.427 2019-02-22 13:27:25.658   \n",
       "138871           121 2019-02-08 02:23:22.491 2019-02-08 02:25:24.424   \n",
       "17879            530 2019-02-26 20:16:32.322 2019-02-26 20:25:22.422   \n",
       "24642            532 2019-02-25 17:56:56.588 2019-02-25 18:05:49.429   \n",
       "22329            182 2019-02-26 08:19:23.919 2019-02-26 08:22:26.167   \n",
       "179909           884 2019-02-01 12:23:12.998 2019-02-01 12:37:57.844   \n",
       "55720            432 2019-02-21 09:43:21.762 2019-02-21 09:50:34.396   \n",
       "17103            990 2019-02-27 07:28:16.130 2019-02-27 07:44:46.732   \n",
       "181128           232 2019-02-01 09:33:25.975 2019-02-01 09:37:18.327   \n",
       "3843             482 2019-02-28 16:52:05.013 2019-02-28 17:00:07.916   \n",
       "29327            496 2019-02-25 07:34:23.989 2019-02-25 07:42:40.633   \n",
       "169988          1216 2019-02-04 08:31:45.751 2019-02-04 08:52:02.744   \n",
       "\n",
       "       start_station_id                                 start_station_name  \\\n",
       "51511              5255                      The Embarcadero at Sansome St   \n",
       "63952              5032                             Harrison St at 17th St   \n",
       "43134              1992                              Howard St at Beale St   \n",
       "44980              2293                             Broderick St at Oak St   \n",
       "138871             4693                        Bancroft Way at College Ave   \n",
       "17879              3986                          San Fernando St at 4th St   \n",
       "24642              5132                                 Berry St at 4th St   \n",
       "22329               291                              Townsend St at 5th St   \n",
       "179909             4914                           Telegraph Ave at 27th St   \n",
       "55720              6370                                        Ryland Park   \n",
       "17103              5383                             24th St at Bartlett St   \n",
       "181128             2989                       Alcatraz Ave at Shattuck Ave   \n",
       "3843               5253   Montgomery St BART Station (Market St at 2nd St)   \n",
       "29327              5346                                 Berry St at 4th St   \n",
       "169988             3709  San Francisco Caltrain Station 2  (Townsend St...   \n",
       "\n",
       "        start_station_latitude  start_station_longitude end_station_id  \\\n",
       "51511                37.804770              -122.403234           5255   \n",
       "63952                37.763847              -122.413004           5032   \n",
       "43134                37.789756              -122.394643           1992   \n",
       "44980                37.773063              -122.439078           2293   \n",
       "138871               37.869360              -122.254337           4693   \n",
       "17879                37.335885              -121.885660           3986   \n",
       "24642                37.775880              -122.393170           5132   \n",
       "22329                37.775235              -122.397437            291   \n",
       "179909               37.816073              -122.267886           4914   \n",
       "55720                37.342725              -121.895617           6370   \n",
       "17103                37.752105              -122.419724           5383   \n",
       "181128               37.849595              -122.265569           2989   \n",
       "3843                 37.789625              -122.400811           5253   \n",
       "29327                37.775880              -122.393170           5346   \n",
       "169988               37.776639              -122.395526           3709   \n",
       "\n",
       "                                      end_station_name  end_station_latitude  \\\n",
       "51511                               Broadway at Kearny             37.798014   \n",
       "63952                             Howard St at Mary St             37.781010   \n",
       "43134   San Francisco Caltrain (Townsend St at 4th St)             37.776598   \n",
       "44980                              Page St at Scott St             37.772406   \n",
       "138871                       Haste St at Telegraph Ave             37.866043   \n",
       "17879                            5th St at Virginia St             37.325998   \n",
       "24642                          Beale St at Harrison St             37.788059   \n",
       "22329                            Townsend St at 7th St             37.771058   \n",
       "179909                             Frank H Ogawa Plaza             37.804562   \n",
       "55720                        San Fernando St at 4th St             37.335885   \n",
       "17103                             5th St at Brannan St             37.776754   \n",
       "181128                              Ashby BART Station             37.852477   \n",
       "3843    San Francisco Caltrain (Townsend St at 4th St)             37.776598   \n",
       "29327                          Beale St at Harrison St             37.788059   \n",
       "169988                          Broadway at Battery St             37.798572   \n",
       "\n",
       "        ...   user_type member_birth_year member_gender  \\\n",
       "51511   ...  Subscriber              1980          Male   \n",
       "63952   ...  Subscriber              1990          Male   \n",
       "43134   ...  Subscriber              1975          Male   \n",
       "44980   ...  Subscriber              1964          Male   \n",
       "138871  ...  Subscriber              1998          Male   \n",
       "17879   ...  Subscriber              1993          Male   \n",
       "24642   ...  Subscriber              1992          Male   \n",
       "22329   ...  Subscriber              1986        Female   \n",
       "179909  ...    Customer              1988        Female   \n",
       "55720   ...  Subscriber              1993          Male   \n",
       "17103   ...  Subscriber              1988          Male   \n",
       "181128  ...  Subscriber              1986          Male   \n",
       "3843    ...  Subscriber              1988          Male   \n",
       "29327   ...  Subscriber              1979          Male   \n",
       "169988  ...  Subscriber              1967          Male   \n",
       "\n",
       "        bike_share_for_all_trip duration_minute  start_date  start_hour  \\\n",
       "51511                        No        5.250000  2019-02-21          18   \n",
       "63952                        No       12.916667  2019-02-20          13   \n",
       "43134                        No        7.816667  2019-02-22          16   \n",
       "44980                        No        1.450000  2019-02-22          13   \n",
       "138871                      Yes        2.016667  2019-02-08           2   \n",
       "17879                       Yes        8.833333  2019-02-26          20   \n",
       "24642                        No        8.866667  2019-02-25          17   \n",
       "22329                        No        3.033333  2019-02-26           8   \n",
       "179909                       No       14.733333  2019-02-01          12   \n",
       "55720                       Yes        7.200000  2019-02-21           9   \n",
       "17103                        No       16.500000  2019-02-27           7   \n",
       "181128                       No        3.866667  2019-02-01           9   \n",
       "3843                         No        8.033333  2019-02-28          16   \n",
       "29327                        No        8.266667  2019-02-25           7   \n",
       "169988                       No       20.266667  2019-02-04           8   \n",
       "\n",
       "       start_dayofweek  start_month age_member  \n",
       "51511         Thursday     February         39  \n",
       "63952        Wednesday     February         29  \n",
       "43134           Friday     February         44  \n",
       "44980           Friday     February         55  \n",
       "138871          Friday     February         21  \n",
       "17879          Tuesday     February         26  \n",
       "24642           Monday     February         27  \n",
       "22329          Tuesday     February         33  \n",
       "179909          Friday     February         31  \n",
       "55720         Thursday     February         26  \n",
       "17103        Wednesday     February         31  \n",
       "181128          Friday     February         33  \n",
       "3843          Thursday     February         31  \n",
       "29327           Monday     February         40  \n",
       "169988          Monday     February         52  \n",
       "\n",
       "[15 rows x 22 columns]"
      ]
     },
     "execution_count": 33,
     "metadata": {},
     "output_type": "execute_result"
    }
   ],
   "source": [
    "#filter out outlier ages which are those that a greater than 80 years\n",
    "clean_df = clean_df.query('age_member <= 80')\n",
    "clean_df.sample(15)"
   ]
  },
  {
   "cell_type": "markdown",
   "metadata": {},
   "source": [
    "###  **Most riders are around which age bracket?**"
   ]
  },
  {
   "cell_type": "code",
   "execution_count": 34,
   "metadata": {},
   "outputs": [
    {
     "data": {
      "image/png": "[encoded data removed]",
      "text/plain": [
       "<Figure size 432x288 with 1 Axes>"
      ]
     },
     "metadata": {
      "needs_background": "light"
     },
     "output_type": "display_data"
    }
   ],
   "source": [
    "# plot a distribution of age_member to visually examine if outliers have been filtered out\n",
    "bins = np.arange(0, clean_df['age_member'].max()+5, 5)\n",
    "plt.hist(data=clean_df, x='age_member', bins=bins);\n",
    "plt.xticks(bins, bins);\n",
    "plt.xlabel('Member Age');\n",
    "plt.ylabel('Count');"
   ]
  },
  {
   "cell_type": "markdown",
   "metadata": {},
   "source": [
    "> **Observation**: After filtering out the outliers i.e ages >=80,I visualized the members age, most member's age were around 25-40 years olds"
   ]
  },
  {
   "cell_type": "markdown",
   "metadata": {},
   "source": [
    "## Hourly, daily and monthly Visuals"
   ]
  },
  {
   "cell_type": "markdown",
   "metadata": {},
   "source": [
    "### When are most trips taken in terms of time of day?"
   ]
  },
  {
   "cell_type": "code",
   "execution_count": 35,
   "metadata": {},
   "outputs": [
    {
     "name": "stdout",
     "output_type": "stream",
     "text": [
      "<class 'pandas.core.frame.DataFrame'>\n",
      "Int64Index: 174760 entries, 0 to 183411\n",
      "Data columns (total 22 columns):\n",
      " #   Column                   Non-Null Count   Dtype         \n",
      "---  ------                   --------------   -----         \n",
      " 0   duration_sec             174760 non-null  int64         \n",
      " 1   start_time               174760 non-null  datetime64[ns]\n",
      " 2   end_time                 174760 non-null  datetime64[ns]\n",
      " 3   start_station_id         174760 non-null  object        \n",
      " 4   start_station_name       174760 non-null  object        \n",
      " 5   start_station_latitude   174760 non-null  float64       \n",
      " 6   start_station_longitude  174760 non-null  float64       \n",
      " 7   end_station_id           174760 non-null  object        \n",
      " 8   end_station_name         174760 non-null  object        \n",
      " 9   end_station_latitude     174760 non-null  float64       \n",
      " 10  end_station_longitude    174760 non-null  float64       \n",
      " 11  bike_id                  174760 non-null  object        \n",
      " 12  user_type                174760 non-null  category      \n",
      " 13  member_birth_year        174760 non-null  int32         \n",
      " 14  member_gender            174760 non-null  category      \n",
      " 15  bike_share_for_all_trip  174760 non-null  category      \n",
      " 16  duration_minute          174760 non-null  float64       \n",
      " 17  start_date               174760 non-null  object        \n",
      " 18  start_hour               174760 non-null  int64         \n",
      " 19  start_dayofweek          174760 non-null  object        \n",
      " 20  start_month              174760 non-null  object        \n",
      " 21  age_member               174760 non-null  int32         \n",
      "dtypes: category(3), datetime64[ns](2), float64(5), int32(2), int64(2), object(8)\n",
      "memory usage: 25.8+ MB\n"
     ]
    }
   ],
   "source": [
    "clean_df.info(null_counts = True)"
   ]
  },
  {
   "cell_type": "code",
   "execution_count": 36,
   "metadata": {},
   "outputs": [
    {
     "data": {
      "image/png": "[encoded data removed]",
      "text/plain": [
       "<Figure size 576x432 with 1 Axes>"
      ]
     },
     "metadata": {
      "needs_background": "light"
     },
     "output_type": "display_data"
    }
   ],
   "source": [
    "# trip distribution over day hours\n",
    "plt.figure(figsize=(8, 6))\n",
    "#start_hour = [00,]\n",
    "base_color = sb.color_palette()[0]\n",
    "sb.countplot(data=clean_df, x='start_hour', color=base_color)\n",
    "plt.title('Hourly Bike Rides in a Day', fontsize=14, fontweight='bold')\n",
    "plt.xlabel('Hour of Day');"
   ]
  },
  {
   "cell_type": "markdown",
   "metadata": {},
   "source": [
    "**Observation**: The distribution shows a `bimodal` distributions with two peaks oe occuring at at `08 hours(8am)` and another one at `17 hours(5pm)`. There is higher usage of bikes at around 7am-9am and 4pm-7pm. which can be an indication of people riding to work and back home in the evening after work. "
   ]
  },
  {
   "cell_type": "markdown",
   "metadata": {},
   "source": [
    "### When are most trips taken in terms day of the week, "
   ]
  },
  {
   "cell_type": "code",
   "execution_count": 37,
   "metadata": {},
   "outputs": [
    {
     "data": {
      "image/png": "[encoded data removed]",
      "text/plain": [
       "<Figure size 720x360 with 1 Axes>"
      ]
     },
     "metadata": {
      "needs_background": "light"
     },
     "output_type": "display_data"
    }
   ],
   "source": [
    "plt.figure(figsize=(10, 5))\n",
    "weekday = ['Monday', 'Tuesday', 'Wednesday', 'Thursday', 'Friday', 'Saturday', 'Sunday']\n",
    "weekdaycat = pd.api.types.CategoricalDtype(ordered=True, categories=weekday)\n",
    "clean_df['start_dayofweek'] = clean_df['start_dayofweek'].astype(weekdaycat)\n",
    "\n",
    "sb.countplot(data=clean_df, x = 'start_dayofweek', color=base_color);\n",
    "plt.title('Daily Bike Rides in a Week', fontsize=14, fontweight='bold')\n",
    "plt.xlabel('Trip Start Day of Week');\n",
    "plt.ylabel('Count');"
   ]
  },
  {
   "cell_type": "markdown",
   "metadata": {},
   "source": [
    "**Observation**: Bikes are using less on weekends and more on Weekdays. Thursdays shows the highest usage of bikes."
   ]
  },
  {
   "cell_type": "markdown",
   "metadata": {},
   "source": [
    "### When are most trips taken in terms of month of the year?"
   ]
  },
  {
   "cell_type": "code",
   "execution_count": 39,
   "metadata": {},
   "outputs": [
    {
     "data": {
      "image/png": "[encoded data removed]",
      "text/plain": [
       "<Figure size 576x360 with 1 Axes>"
      ]
     },
     "metadata": {
      "needs_background": "light"
     },
     "output_type": "display_data"
    }
   ],
   "source": [
    "plt.figure(figsize=(8, 5))\n",
    "\n",
    "sb.countplot(data=clean_df, x='start_month', color=base_color);\n",
    "plt.xticks(rotation=15);\n",
    "plt.xlabel('Trip Start Month');\n",
    "plt.ylabel('Count');"
   ]
  },
  {
   "cell_type": "markdown",
   "metadata": {},
   "source": [
    "**Observation**: The visualization shows start_month dataset covers only one month, the month of February and no data for other months."
   ]
  },
  {
   "cell_type": "markdown",
   "metadata": {},
   "source": [
    "## Duration of a trip"
   ]
  },
  {
   "cell_type": "markdown",
   "metadata": {},
   "source": [
    "### How long does the average trip take?"
   ]
  },
  {
   "cell_type": "code",
   "execution_count": 42,
   "metadata": {},
   "outputs": [
    {
     "data": {
      "text/plain": [
       "count    174760.000000\n",
       "mean         11.738494\n",
       "std          27.383861\n",
       "min           1.016667\n",
       "25%           5.383333\n",
       "50%           8.516667\n",
       "75%          13.150000\n",
       "max        1409.133333\n",
       "Name: duration_minute, dtype: float64"
      ]
     },
     "execution_count": 42,
     "metadata": {},
     "output_type": "execute_result"
    }
   ],
   "source": [
    "clean_df['duration_minute'].describe()"
   ]
  },
  {
   "cell_type": "code",
   "execution_count": 43,
   "metadata": {},
   "outputs": [
    {
     "data": {
      "text/plain": [
       "Text(0.5, 1.0, 'Duration of Trips')"
      ]
     },
     "execution_count": 43,
     "metadata": {},
     "output_type": "execute_result"
    },
    {
     "data": {
      "image/png": "[encoded data removed]",
      "text/plain": [
       "<Figure size 432x288 with 1 Axes>"
      ]
     },
     "metadata": {
      "needs_background": "light"
     },
     "output_type": "display_data"
    }
   ],
   "source": [
    "# histogram plot displaying duration_sec\n",
    "plt.hist(data=clean_df, x='duration_minute')\n",
    "plt.xlabel('Duration (minute)');\n",
    "plt.title('Duration of Trips', fontsize=14, fontweight='bold')"
   ]
  },
  {
   "cell_type": "markdown",
   "metadata": {},
   "source": [
    "-`Observation` The duration of trips is positively skewed to the right."
   ]
  },
  {
   "cell_type": "code",
   "execution_count": 44,
   "metadata": {},
   "outputs": [
    {
     "data": {
      "image/png": "[encoded data removed]",
      "text/plain": [
       "<Figure size 576x360 with 1 Axes>"
      ]
     },
     "metadata": {
      "needs_background": "light"
     },
     "output_type": "display_data"
    }
   ],
   "source": [
    "# Adjust the bins and set limit to x\n",
    "binsize = 200\n",
    "plt.figure(figsize=[8, 5])\n",
    "bin_edges = np.arange(50, clean_df['duration_minute'].max()+binsize, binsize)\n",
    "plt.hist(data=clean_df, x='duration_minute', bins=bin_edges)\n",
    "plt.xlabel('Duration (minute)')\n",
    "plt.ylabel('Number of trips')\n",
    "plt.xlim(0, 1500)  # set up a limit due to the outliers\n",
    "plt.title('Duration of Trips', fontsize=14, fontweight='bold')\n",
    "plt.show()"
   ]
  },
  {
   "cell_type": "markdown",
   "metadata": {},
   "source": [
    "-`Oservation` The distribution is skewed to the right with a maximum duration as 1400 minutes, duration in minutes greater than 600 will be regarded as outliers"
   ]
  },
  {
   "cell_type": "code",
   "execution_count": 45,
   "metadata": {
    "scrolled": true
   },
   "outputs": [
    {
     "data": {
      "image/png": "[encoded data removed]",
      "text/plain": [
       "<Figure size 432x288 with 1 Axes>"
      ]
     },
     "metadata": {
      "needs_background": "light"
     },
     "output_type": "display_data"
    }
   ],
   "source": [
    "#change been sizes to show trip duration distribution\n",
    "bins = np.arange(0, 66, 1)\n",
    "ticks = np.arange(0, 66, 5)\n",
    "plt.hist(data=clean_df, x='duration_minute', bins=bins);\n",
    "plt.xticks(ticks, ticks);\n",
    "plt.title('Duration of Trips', fontsize=14, fontweight='bold')\n",
    "plt.xlabel('Trip Duration in Minute');"
   ]
  },
  {
   "cell_type": "markdown",
   "metadata": {},
   "source": [
    "`Observation`\n",
    "- The distribution of duration is skewed to the right, duration of most trips seem to ranging from 5-15 minutes\n",
    "- Looks like 99% of the Trips were less than 1 our long. I'll go ahead and remove outliers to enable focusing on most common duration of trips."
   ]
  },
  {
   "cell_type": "code",
   "execution_count": 46,
   "metadata": {},
   "outputs": [
    {
     "name": "stdout",
     "output_type": "stream",
     "text": [
      "<class 'pandas.core.frame.DataFrame'>\n",
      "Int64Index: 173543 entries, 4 to 183411\n",
      "Data columns (total 22 columns):\n",
      " #   Column                   Non-Null Count   Dtype         \n",
      "---  ------                   --------------   -----         \n",
      " 0   duration_sec             173543 non-null  int64         \n",
      " 1   start_time               173543 non-null  datetime64[ns]\n",
      " 2   end_time                 173543 non-null  datetime64[ns]\n",
      " 3   start_station_id         173543 non-null  object        \n",
      " 4   start_station_name       173543 non-null  object        \n",
      " 5   start_station_latitude   173543 non-null  float64       \n",
      " 6   start_station_longitude  173543 non-null  float64       \n",
      " 7   end_station_id           173543 non-null  object        \n",
      " 8   end_station_name         173543 non-null  object        \n",
      " 9   end_station_latitude     173543 non-null  float64       \n",
      " 10  end_station_longitude    173543 non-null  float64       \n",
      " 11  bike_id                  173543 non-null  object        \n",
      " 12  user_type                173543 non-null  category      \n",
      " 13  member_birth_year        173543 non-null  int32         \n",
      " 14  member_gender            173543 non-null  category      \n",
      " 15  bike_share_for_all_trip  173543 non-null  category      \n",
      " 16  duration_minute          173543 non-null  float64       \n",
      " 17  start_date               173543 non-null  object        \n",
      " 18  start_hour               173543 non-null  int64         \n",
      " 19  start_dayofweek          173543 non-null  category      \n",
      " 20  start_month              173543 non-null  category      \n",
      " 21  age_member               173543 non-null  int32         \n",
      "dtypes: category(5), datetime64[ns](2), float64(5), int32(2), int64(2), object(6)\n",
      "memory usage: 23.3+ MB\n"
     ]
    }
   ],
   "source": [
    "#filter out Trip duration >66 minutes\n",
    "clean_df= clean_df.query('duration_minute <= 66')\n",
    "clean_df.info(null_counts=True)"
   ]
  },
  {
   "cell_type": "code",
   "execution_count": 47,
   "metadata": {},
   "outputs": [
    {
     "data": {
      "image/png": "[encoded data removed]",
      "text/plain": [
       "<Figure size 576x360 with 1 Axes>"
      ]
     },
     "metadata": {
      "needs_background": "light"
     },
     "output_type": "display_data"
    }
   ],
   "source": [
    "# Adjust the bins and set limit to x\n",
    "binsize = 100\n",
    "plt.figure(figsize=[8, 5])\n",
    "bin_edges = np.arange(50, clean_df['duration_minute'].max()+binsize, binsize)\n",
    "plt.hist(data=clean_df, x='duration_minute', bins=bin_edges)\n",
    "plt.xlabel('Duration (minute)')\n",
    "plt.ylabel('Number of trips')\n",
    "plt.xlim(0, 1500)  # set up a limit due to the outliers\n",
    "plt.show()"
   ]
  },
  {
   "cell_type": "markdown",
   "metadata": {},
   "source": [
    "- `observation` From the above plot, the outliers have been removed."
   ]
  },
  {
   "cell_type": "code",
   "execution_count": 48,
   "metadata": {},
   "outputs": [
    {
     "data": {
      "text/plain": [
       "count    173543.000000\n",
       "mean         10.362841\n",
       "std           7.570748\n",
       "min           1.016667\n",
       "25%           5.366667\n",
       "50%           8.466667\n",
       "75%          13.016667\n",
       "max          66.000000\n",
       "Name: duration_minute, dtype: float64"
      ]
     },
     "execution_count": 48,
     "metadata": {},
     "output_type": "execute_result"
    }
   ],
   "source": [
    "#show outliers have been removed\n",
    "clean_df['duration_minute'].describe()"
   ]
  },
  {
   "cell_type": "markdown",
   "metadata": {},
   "source": [
    "-`Observation` Maximum tripduration is now 66 minutes and minimum trip duration is 1 minute. The average Trip took 10 minutes. Approximately half of the riders took 8 minutes."
   ]
  },
  {
   "cell_type": "markdown",
   "metadata": {},
   "source": [
    "## Users and use of bike_share"
   ]
  },
  {
   "cell_type": "markdown",
   "metadata": {},
   "source": [
    "### Which riders take more trips? Subscribers or Customers?"
   ]
  },
  {
   "cell_type": "code",
   "execution_count": 49,
   "metadata": {},
   "outputs": [
    {
     "data": {
      "image/png": "[encoded data removed]",
      "text/plain": [
       "<Figure size 432x288 with 1 Axes>"
      ]
     },
     "metadata": {
      "needs_background": "light"
     },
     "output_type": "display_data"
    }
   ],
   "source": [
    "#plot distribution of user_type\n",
    "sb.countplot(data=clean_df, x='user_type', color=base_color);\n",
    "plt.title('User type', fontsize=14, fontweight='bold')\n",
    "plt.xlabel('User Type');\n",
    "plt.ylabel('Count');\n",
    "\n"
   ]
  },
  {
   "cell_type": "markdown",
   "metadata": {},
   "source": [
    "`Observation`: From the observation, the subscribers took more trips as compared to customers."
   ]
  },
  {
   "cell_type": "markdown",
   "metadata": {},
   "source": [
    "### In terms of member_gender, which gender takes more trips?"
   ]
  },
  {
   "cell_type": "code",
   "execution_count": 50,
   "metadata": {},
   "outputs": [
    {
     "data": {
      "image/png": "[encoded data removed]",
      "text/plain": [
       "<Figure size 432x288 with 1 Axes>"
      ]
     },
     "metadata": {
      "needs_background": "light"
     },
     "output_type": "display_data"
    }
   ],
   "source": [
    "#plot distribution of user_type\n",
    "sb.countplot(data=clean_df, x='member_gender', color=base_color);\n",
    "plt.title('Member Gender', fontsize=14, fontweight='bold')\n",
    "plt.xlabel('Member gender');\n",
    "plt.ylabel('Count');"
   ]
  },
  {
   "cell_type": "markdown",
   "metadata": {},
   "source": [
    "`Observation`: The males took more trips followed by females and proportion of trips taken by others is the least."
   ]
  },
  {
   "cell_type": "markdown",
   "metadata": {},
   "source": [
    "### Is usage of bike_share trip common?"
   ]
  },
  {
   "cell_type": "code",
   "execution_count": 51,
   "metadata": {},
   "outputs": [
    {
     "data": {
      "image/png": "[encoded data removed]",
      "text/plain": [
       "<Figure size 432x288 with 1 Axes>"
      ]
     },
     "metadata": {
      "needs_background": "light"
     },
     "output_type": "display_data"
    }
   ],
   "source": [
    "#plot distribution of user_type\n",
    "sb.countplot(data=clean_df, x='bike_share_for_all_trip', color=base_color);\n",
    "plt.title('Bike Share for all trip', fontsize=14, fontweight='bold')\n",
    "plt.xlabel('bike share');\n",
    "plt.ylabel('Count');"
   ]
  },
  {
   "cell_type": "markdown",
   "metadata": {},
   "source": [
    "`Observation`: Majority idid not use bike Share for all trips"
   ]
  },
  {
   "cell_type": "markdown",
   "metadata": {},
   "source": [
    "### Discuss the distribution(s) of your variable(s) of interest. Were there any unusual points? Did you need to perform any transformations?\n",
    "\n",
    "- The distribution shows a bimodal distributions with two peaks, one occuring at at 08 hours(8am) and another one at 17 hours(5pm). There is higher usage of bikes at around 7am-9am and 4pm-7pm. which can be an indication of people riding to work and back home in the evening after work.  \n",
    "\n",
    "\n",
    "- Usgae of bikes are  less on weekends and more on Weekdays. Thursdays shows the highest usage of bikes.   \n",
    "\n",
    "  \n",
    "- In the trip duration aspect, the distribution is skewed to the right with a maximum duration of 1400 minutes(which is approximately 23+ hours ence an outlier), duration in minutes greater than 600 were regarded as outliers nd were filtered out and maximum trip duration is 66 minutes.The histogram shows that trip duration is skewed to the right, duration of most trips seem to ranging from 5-15 minutes.The average duration of a trip is 10 minutes and minimum duration is 1 minute. Approximately half of the riders took 8 minutes.  From observation, 99% of the Trips were less than 1 hour long.   \n",
    "\n",
    "\n",
    "- Most riders were subscribers took more trips as compared to customers and majority did not use bike share for all trips. The males took most of trips and most riders were around age 25-40 years old. \n",
    "- I didn't perform transformation since I felt the data was straightforward\n",
    "\n",
    "### Of the features you investigated, were there any unusual distributions? Did you perform any operations on the data to tidy, adjust, or change the form of the data? If so, why did you do this?\n",
    "\n",
    "- I had to remove outliers in the trip durations since some trips tok 20 plus hours which is impossible. I also removed outliers in the member's age since some were over 80 years old and it's unlikely from them to be riding a bike at that age.\n",
    "-  Birth year is converted by substracting the year from current year so this gives us a distibution for age, this action is performed as age gives a better perception regarding trip duration dependency.\n",
    "- In order to find out usage pattern in terms of time of day and day of the week, I had to use start_time and convert it to start_date, start_hour, start_dayofweek and start_month and put into separate columns for analysis since this data is not provided separately.  \n",
    "- I prefered converting duration to minutes for easy translation"
   ]
  },
  {
   "cell_type": "markdown",
   "metadata": {},
   "source": [
    "## Bivariate Exploration\n",
    "\n",
    "> This section investigates the relationships between pairs of variables in the data. "
   ]
  },
  {
   "cell_type": "markdown",
   "metadata": {},
   "source": [
    "Make sure the variables that you cover here have been introduced in some\n",
    "fashion in the previous section (univariate exploration)."
   ]
  },
  {
   "cell_type": "code",
   "execution_count": 52,
   "metadata": {},
   "outputs": [],
   "source": [
    "# save the clean data to a .csv file\n",
    "\n",
    "clean_df.to_csv('fordgobike_trips_2019_clean.csv', index=False)"
   ]
  },
  {
   "cell_type": "code",
   "execution_count": 53,
   "metadata": {},
   "outputs": [
    {
     "data": {
      "text/plain": [
       "duration_sec                        int64\n",
       "start_time                 datetime64[ns]\n",
       "end_time                   datetime64[ns]\n",
       "start_station_id                   object\n",
       "start_station_name                 object\n",
       "start_station_latitude            float64\n",
       "start_station_longitude           float64\n",
       "end_station_id                     object\n",
       "end_station_name                   object\n",
       "end_station_latitude              float64\n",
       "end_station_longitude             float64\n",
       "bike_id                            object\n",
       "user_type                        category\n",
       "member_birth_year                   int32\n",
       "member_gender                    category\n",
       "bike_share_for_all_trip          category\n",
       "duration_minute                   float64\n",
       "start_date                         object\n",
       "start_hour                          int64\n",
       "start_dayofweek                  category\n",
       "start_month                      category\n",
       "age_member                          int32\n",
       "dtype: object"
      ]
     },
     "execution_count": 53,
     "metadata": {},
     "output_type": "execute_result"
    }
   ],
   "source": [
    "#look at features in the dataset\n",
    "clean_df.dtypes"
   ]
  },
  {
   "cell_type": "code",
   "execution_count": 54,
   "metadata": {},
   "outputs": [],
   "source": [
    "#chnage start_dayof week and start_month data type\n",
    "clean_df.start_dayofweek = clean_df.start_dayofweek.astype('str')\n",
    "clean_df.start_month = clean_df.start_month.astype('str')"
   ]
  },
  {
   "cell_type": "code",
   "execution_count": 55,
   "metadata": {},
   "outputs": [
    {
     "data": {
      "text/plain": [
       "duration_sec                        int64\n",
       "start_time                 datetime64[ns]\n",
       "end_time                   datetime64[ns]\n",
       "start_station_id                   object\n",
       "start_station_name                 object\n",
       "start_station_latitude            float64\n",
       "start_station_longitude           float64\n",
       "end_station_id                     object\n",
       "end_station_name                   object\n",
       "end_station_latitude              float64\n",
       "end_station_longitude             float64\n",
       "bike_id                            object\n",
       "user_type                        category\n",
       "member_birth_year                   int32\n",
       "member_gender                    category\n",
       "bike_share_for_all_trip          category\n",
       "duration_minute                   float64\n",
       "start_date                         object\n",
       "start_hour                          int64\n",
       "start_dayofweek                    object\n",
       "start_month                        object\n",
       "age_member                          int32\n",
       "dtype: object"
      ]
     },
     "execution_count": 55,
     "metadata": {},
     "output_type": "execute_result"
    }
   ],
   "source": [
    "clean_df.dtypes"
   ]
  },
  {
   "cell_type": "markdown",
   "metadata": {},
   "source": [
    "## Effect of Trip Duration  feauture on other features"
   ]
  },
  {
   "cell_type": "markdown",
   "metadata": {},
   "source": [
    "### Duration vs Age"
   ]
  },
  {
   "cell_type": "markdown",
   "metadata": {},
   "source": [
    "- I will use both correlation and a scatter plot"
   ]
  },
  {
   "cell_type": "code",
   "execution_count": 56,
   "metadata": {},
   "outputs": [],
   "source": [
    "numeric_vars = ['duration_minute', 'age_member']"
   ]
  },
  {
   "cell_type": "code",
   "execution_count": 80,
   "metadata": {},
   "outputs": [
    {
     "data": {
      "image/png": "[encoded data removed]",
      "text/plain": [
       "<Figure size 576x360 with 1 Axes>"
      ]
     },
     "metadata": {
      "needs_background": "light"
     },
     "output_type": "display_data"
    }
   ],
   "source": [
    "# scatter charts showing distribution between age and trip duration\n",
    "plt.figure(figsize=[8, 5])\n",
    "plt.scatter(data=clean_df, x='age_member', y='duration_minute', alpha=0.25)\n",
    "plt.title('Trip distribution by Age')\n",
    "plt.xlabel('Members age')\n",
    "plt.ylabel('Trip Duration (min)')\n",
    "plt.show()"
   ]
  },
  {
   "cell_type": "markdown",
   "metadata": {},
   "source": [
    " `Observation`: General the scatterplot shows the duration of trip decreases with increase in age."
   ]
  },
  {
   "cell_type": "code",
   "execution_count": 58,
   "metadata": {},
   "outputs": [
    {
     "data": {
      "image/png": "[encoded data removed]",
      "text/plain": [
       "<Figure size 576x360 with 2 Axes>"
      ]
     },
     "metadata": {
      "needs_background": "light"
     },
     "output_type": "display_data"
    }
   ],
   "source": [
    "# heatmap to show relationship between duration of trip and age\n",
    "plt.figure(figsize=[8, 5])\n",
    "sb.heatmap(clean_df[numeric_vars].corr(), annot=True,fmt='.3f', cmap='Reds', center=0)\n",
    "plt.show()"
   ]
  },
  {
   "cell_type": "markdown",
   "metadata": {},
   "source": [
    "`Observation`: There's a negative correlation where the age decreases as the trip duration increases"
   ]
  },
  {
   "cell_type": "markdown",
   "metadata": {},
   "source": [
    "### Duration vs User_type"
   ]
  },
  {
   "cell_type": "code",
   "execution_count": 60,
   "metadata": {},
   "outputs": [
    {
     "data": {
      "image/png": "[encoded data removed]",
      "text/plain": [
       "<Figure size 1296x432 with 2 Axes>"
      ]
     },
     "metadata": {
      "needs_background": "light"
     },
     "output_type": "display_data"
    }
   ],
   "source": [
    "# plot duration vs user type using violin plot and boxplot\n",
    "fig = plt.figure(figsize=[18, 6])\n",
    "base_color = sb.color_palette()[0]\n",
    "\n",
    "# left plot: violin plot\n",
    "plt.subplot(1, 2, 1)\n",
    "ax1 = sb.violinplot(data=clean_df, x='user_type', y='duration_minute', color=base_color,inner='quartile')\n",
    "plt.xlabel('User type')\n",
    "plt.ylabel('Trip duration(minutes)')\n",
    "\n",
    "# right plot: box plot\n",
    "plt.subplot(1, 2, 2)\n",
    "sb.boxplot(data=clean_df, x='user_type',y='duration_minute', color=base_color)\n",
    "plt.xlabel('User type')\n",
    "plt.ylabel('Trip duration(minutes)')\n",
    "plt.ylim(ax1.get_ylim())  # set y-axis limits to be same as left plot\n",
    "fig.suptitle('Trip Duration per User Type', fontsize=14, fontweight='bold')\n",
    "plt.show()"
   ]
  },
  {
   "cell_type": "code",
   "execution_count": 61,
   "metadata": {},
   "outputs": [
    {
     "data": {
      "text/plain": [
       "(array([0, 1]), [Text(0, 0, 'Customer'), Text(1, 0, 'Subscriber')])"
      ]
     },
     "execution_count": 61,
     "metadata": {},
     "output_type": "execute_result"
    },
    {
     "data": {
      "image/png": "[encoded data removed]",
      "text/plain": [
       "<Figure size 504x360 with 1 Axes>"
      ]
     },
     "metadata": {
      "needs_background": "light"
     },
     "output_type": "display_data"
    }
   ],
   "source": [
    "#plot acerage trip duration based on user type\n",
    "clean_df.groupby('user_type')['duration_sec'].mean().plot(kind='bar', figsize=(7, 5))\n",
    "plt.title(' Average Trip Duration Based on User Type',fontsize=14, fontweight='bold')\n",
    "plt.xlabel('User type')\n",
    "plt.ylabel('Trip duration(minutes)')\n",
    "plt.xticks(rotation=0)"
   ]
  },
  {
   "cell_type": "markdown",
   "metadata": {},
   "source": [
    "- `Observation`: Even though the subscibers take more trip, the three plots show that the trip duration is longer in customers as compared to subscribers "
   ]
  },
  {
   "cell_type": "markdown",
   "metadata": {},
   "source": [
    "### Duration vs Start_dayofweek"
   ]
  },
  {
   "cell_type": "code",
   "execution_count": 62,
   "metadata": {},
   "outputs": [
    {
     "data": {
      "image/png": "[encoded data removed]",
      "text/plain": [
       "<Figure size 720x360 with 1 Axes>"
      ]
     },
     "metadata": {
      "needs_background": "light"
     },
     "output_type": "display_data"
    }
   ],
   "source": [
    "plt.figure(figsize=(10, 5))\n",
    "weekday = ['Monday', 'Tuesday', 'Wednesday', 'Thursday', 'Friday', 'Saturday', 'Sunday']\n",
    "weekdaycat = pd.api.types.CategoricalDtype(ordered=True, categories=weekday)\n",
    "clean_df['start_dayofweek'] = clean_df['start_dayofweek'].astype(weekdaycat)\n",
    "\n",
    "#plot\n",
    "sb.barplot(data=clean_df, x='start_dayofweek', y='duration_minute', color=base_color);\n",
    "plt.title(' Trip Duration Based on day of week',fontsize=14, fontweight='bold')\n",
    "plt.xlabel('Day of Week');\n",
    "plt.ylabel('Trip Duration in Minute');\n",
    "plt.xticks(rotation=15);"
   ]
  },
  {
   "cell_type": "markdown",
   "metadata": {},
   "source": [
    "`Observation`: Trip durations is longer on weekends as compared to weekdays"
   ]
  },
  {
   "cell_type": "markdown",
   "metadata": {},
   "source": [
    "### Duration vs Member_gender"
   ]
  },
  {
   "cell_type": "code",
   "execution_count": 75,
   "metadata": {},
   "outputs": [
    {
     "data": {
      "image/png": "[encoded data removed]",
      "text/plain": [
       "<Figure size 720x360 with 2 Axes>"
      ]
     },
     "metadata": {
      "needs_background": "light"
     },
     "output_type": "display_data"
    }
   ],
   "source": [
    "# plot duration vs user type using violin plot and boxplot\n",
    "fig = plt.figure(figsize=[20, 6])\n",
    "base_color = sb.color_palette()[0]\n",
    "\n",
    "# left plot: violin plot\n",
    "plt.subplot(1, 2, 1)\n",
    "ax1 = sb.boxplot(data=clean_df, x='member_gender', y='duration_minute', color=base_color, palette='Set1', order=['Male', 'Female', 'Other'])\n",
    "plt.xlabel('Member Gender')\n",
    "plt.ylabel('Trip duration(minutes)')\n",
    "\n",
    "# right plot: box plot\n",
    "plt.subplot(1, 2, 2)\n",
    "clean_df.groupby('member_gender')['duration_minute'].mean().plot(kind='bar', figsize = [10,5])\n",
    "plt.ylabel('Trip duration(minutes)')\n",
    "fig.suptitle('Trip Duration per member gender', fontsize=14, fontweight='bold')\n",
    "plt.show()"
   ]
  },
  {
   "cell_type": "markdown",
   "metadata": {},
   "source": [
    "`Observation`: The boxplot and the graph shows that female and other gender have a slightly higher trip duration than males."
   ]
  },
  {
   "cell_type": "markdown",
   "metadata": {},
   "source": [
    "## What's the relationship between gender and user type"
   ]
  },
  {
   "cell_type": "code",
   "execution_count": 77,
   "metadata": {},
   "outputs": [
    {
     "data": {
      "text/plain": [
       "<matplotlib.legend.Legend at 0x1d2ddefe260>"
      ]
     },
     "execution_count": 77,
     "metadata": {},
     "output_type": "execute_result"
    },
    {
     "data": {
      "image/png": "[encoded data removed]",
      "text/plain": [
       "<Figure size 432x288 with 1 Axes>"
      ]
     },
     "metadata": {
      "needs_background": "light"
     },
     "output_type": "display_data"
    }
   ],
   "source": [
    "#plot categorical variables gender and user type\n",
    "# plot the relationship between user type and gender\n",
    "sb.countplot(data=clean_df, x='member_gender', hue='user_type')\n",
    "plt.xlabel('Member Gender')\n",
    "plt.legend(title='User Type')"
   ]
  },
  {
   "cell_type": "markdown",
   "metadata": {},
   "source": [
    "`Observation`: The number of male subscribers are more as compared tofemale and other genders."
   ]
  },
  {
   "cell_type": "markdown",
   "metadata": {},
   "source": [
    "## Hourly bike usage in number per user type"
   ]
  },
  {
   "cell_type": "code",
   "execution_count": 84,
   "metadata": {
    "scrolled": true
   },
   "outputs": [
    {
     "data": {
      "image/png": "[encoded data removed]",
      "text/plain": [
       "<Figure size 720x360 with 2 Axes>"
      ]
     },
     "metadata": {
      "needs_background": "light"
     },
     "output_type": "display_data"
    }
   ],
   "source": [
    "# Use Facet & catplot to plot subscribers and customers\n",
    "base_color = sb.color_palette()[0]\n",
    "sb.catplot(data=clean_df, x='start_hour', col='user_type', kind='count', color=base_color, sharey=False)\n",
    "plt.subplots_adjust(top=0.85)\n",
    "plt.suptitle('Hourly Bike Rides in Number', fontsize=14, fontweight='bold');"
   ]
  },
  {
   "cell_type": "markdown",
   "metadata": {},
   "source": [
    "`Observation`: Subscribers take most of their trips around 8-9am and 4-6pm, typical commute hours. There are less bike rides during 10am-3pm. For customers, 8am-6pm is the popular time period to rent the bike. "
   ]
  },
  {
   "cell_type": "markdown",
   "metadata": {},
   "source": [
    "### Talk about some of the relationships you observed in this part of the investigation. How did the feature(s) of interest vary with other features in the dataset?\n",
    "- The trip duration is affected as the age changes. As the riders become older,especially those above 45, their trip durations drops sinificantly as compared to those of age 25-35. Generally the tripduration decreases with increase in age. \n",
    "-  When looking at the relationship between user type and trip duration, even though the subscibers take more trips, the plots show that the trip duration is longer in customers as compared to subscribers.Also, subscribers take most of their trips around 8-9am and 4-6pm, typical commute hours. There are less bike rides during 10am-3pm. For customers, 8am-6pm is the popular time period to ride the bike.  \n",
    "- Trip durations is longer on weekends as compared to weekdays, Probably the riders engage in other activitieson weekends and use bikes during weekdays to work.    \n",
    "- When looking at catgorical variables, the number of male subscribers exceeds number of females and other genders.  \n",
    "\n",
    "\n",
    "\n",
    "### Did you observe any interesting relationships between the other features (not the main feature(s) of interest)?\n",
    "\n",
    "- The relationship between gender members and trip duration is a unique one as it shows that male had the lowest trip duration, you had expect female to have the lowest trip duration. I also found that among users, an actual customer is spending more time on a bike trip than subscribers., you had expect subscribers to ride for a longer time period.\n",
    " "
   ]
  },
  {
   "cell_type": "markdown",
   "metadata": {},
   "source": [
    "## Multivariate Exploration\n",
    "\n",
    "> In this section, I will create plots of three or more variables to investigate the data.\n",
    "\n",
    "- I will investigate the relationship between gender, trip duration an age. I will also invesitigate the relationship between day of week, user_type, duration in minutes and other variables."
   ]
  },
  {
   "cell_type": "markdown",
   "metadata": {},
   "source": [
    "## What is the relationship between gender, age and Trip duration"
   ]
  },
  {
   "cell_type": "code",
   "execution_count": 99,
   "metadata": {},
   "outputs": [
    {
     "data": {
      "text/plain": [
       "<Figure size 1080x720 with 0 Axes>"
      ]
     },
     "metadata": {},
     "output_type": "display_data"
    },
    {
     "data": {
      "image/png": "[encoded data removed]",
      "text/plain": [
       "<Figure size 476x720 with 3 Axes>"
      ]
     },
     "metadata": {
      "needs_background": "light"
     },
     "output_type": "display_data"
    }
   ],
   "source": [
    "plt.figure(figsize=[15, 10])\n",
    "g = sb.FacetGrid(data=clean_df, col='member_gender', col_wrap=2,height=5, aspect=0.65, xlim=[10, 80], ylim=[-5, 66])\n",
    "g.map_dataframe(sb.scatterplot, 'age_member', 'duration_minute')\n",
    "g.set_axis_labels('Age (year)', 'Duration (min)')\n",
    "g.add_legend()\n",
    "plt.show();"
   ]
  },
  {
   "cell_type": "markdown",
   "metadata": {},
   "source": [
    "`Observation`: The age 20 to 40 represents the group that does most of the rides. From the plot, males have taken more trips followed by the females and lastly the other gender. As much as duration of the trip reduces as the age increases, the rate of decrease of duration of trip with age is slow in males."
   ]
  },
  {
   "cell_type": "markdown",
   "metadata": {},
   "source": [
    "## How does the average trip duration vary in weekdays between customers and subscribers?"
   ]
  },
  {
   "cell_type": "code",
   "execution_count": 108,
   "metadata": {},
   "outputs": [
    {
     "data": {
      "image/png": "[encoded data removed]",
      "text/plain": [
       "<Figure size 1296x432 with 2 Axes>"
      ]
     },
     "metadata": {
      "needs_background": "light"
     },
     "output_type": "display_data"
    }
   ],
   "source": [
    "fig = plt.figure(figsize=[18, 6])\n",
    "plt.suptitle('Trip duration during Weekdays for Customers and Subscribers')\n",
    "plt.subplot(1, 2, 1)\n",
    "ax1 = sb.barplot(data = clean_df, x = 'start_dayofweek', y = 'duration_minute', hue = 'user_type')\n",
    "ax.legend(loc = 8, ncol = 3, framealpha = 1, title = 'user_type')\n",
    "plt.xticks(rotation=15);\n",
    "\n",
    "plt.subplot(1, 2, 2)\n",
    "sb.pointplot(data = clean_df, x = 'start_dayofweek', y = 'duration_minute', hue = 'user_type',\n",
    "                  dodge = 0.3, linestyles = \"\")\n",
    "plt.xticks(rotation=15);"
   ]
  },
  {
   "cell_type": "markdown",
   "metadata": {},
   "source": [
    "`Observation`:From the above plot, it shows that subscribers take much shorter trips compared to customers on each day of the week. Both user types have an obvious increase of trip duration on Saturdays and Sundays over weekdays, especially for customers.As for weekdays, customers usage of bikes is quite high on Monday. Subscribers usage seems to be more efficient than customers overall and maintained a very consistent average duration Monday through Friday. Subsciber usage is dependable for profit gain as compared to customers usage."
   ]
  },
  {
   "cell_type": "markdown",
   "metadata": {},
   "source": [
    "## How does the hourly usage vary during weekdays for customers and subscribers?"
   ]
  },
  {
   "cell_type": "code",
   "execution_count": 112,
   "metadata": {},
   "outputs": [
    {
     "data": {
      "image/png": "[encoded data removed]",
      "text/plain": [
       "<Figure size 1296x432 with 4 Axes>"
      ]
     },
     "metadata": {
      "needs_background": "light"
     },
     "output_type": "display_data"
    }
   ],
   "source": [
    "fig = plt.figure(figsize=[18, 6])\n",
    "plt.suptitle('Hourly Usage during Weekdays for Customers and Subscribers')\n",
    "\n",
    "plt.subplot(2, 1, 1)\n",
    "customers = clean_df.query('user_type == \"Customer\"')\n",
    "ct_counts = customers.groupby(['start_dayofweek', 'start_hour']).size()\n",
    "ct_counts = ct_counts.reset_index(name='count')\n",
    "ct_counts = ct_counts.pivot(index='start_dayofweek', columns='start_hour', values='count')\n",
    "sb.heatmap(ct_counts, cmap='rocket_r');\n",
    "plt.title('Customer', loc='right');\n",
    "plt.xlabel('Hour of Day');\n",
    "plt.ylabel('Day of Week');\n",
    "\n",
    "plt.subplot(2, 1, 2)\n",
    "subscribers = clean_df.query('user_type == \"Subscriber\"')\n",
    "st_counts = subscribers.groupby(['start_dayofweek', 'start_hour']).size()\n",
    "st_counts = st_counts.reset_index(name='count')\n",
    "st_counts = st_counts.pivot(index='start_dayofweek', columns='start_hour', values='count')\n",
    "sb.heatmap(st_counts, cmap='rocket_r');\n",
    "plt.title('Subscriber', loc='right');\n",
    "plt.xlabel('Hour of Day');\n",
    "plt.ylabel('Day of Week');"
   ]
  },
  {
   "cell_type": "markdown",
   "metadata": {},
   "source": [
    "`Observation`: From the above heatmap, it shows the different patterns depending on the user type. The subscribers seem to use the bikes more on weekdays and mostly during 8-9am and 5-6pm. This shows that they are used for commuting to work. As for customers, they have a greater usage of bike more on weekends as compared to subscribers and ride as from 10am-5pm. During the weekdays, the customers start using bikes heavily at 8am-9am and 5-6pm."
   ]
  },
  {
   "cell_type": "markdown",
   "metadata": {},
   "source": [
    "### Talk about some of the relationships you observed in this part of the investigation. Were there features that strengthened each other in terms of looking at your feature(s) of interest?\n",
    "\n",
    "- The multivariate exploration strengthened some of the patterns discovered in the previous bivariate exploration as well as univariate exploration, the relationship between the multiple variables plotted are visualized altogether and information are presented combined. The average trip duration of subscribers is  much shorter compared to customers on each day of the week. custmers have a significant increase of trip duration on Saturdays and Sundays over weekdays.As for weekdays, customers usage of bikes is quite high on Monday.Hourly trip duration of subscribers on weekdays seem to be more during 8-9am and 5-6pm which are typtical commute hours.During the weekdays, usage of bikes for both users seem to be consistent but as for weekends, the customer ride bikes for longer as compared to subscribers.The male constitutes most of the riders and average trip duration decreases with increases in age with trip duration for females decreasing at a higher arte compared to the males.\n",
    "\n",
    "### Were there any interesting or surprising interactions between features?\n",
    "- The interactions between features are all supplementing each other and quite make sense when looked at combined varibales. \n",
    "- There's no big surprise observed. The usage habit difference between male and female is not that much or obvious throughout the exploration, which could be related to the imbalanced number of female riders/records compared to male ones. It'd be interesting to see how male and female use the system differently if there were more female data.\n"
   ]
  },
  {
   "cell_type": "markdown",
   "metadata": {},
   "source": [
    "## Conclusions\n",
    "- One of te main feature that is widely used in the dataset is trip duration in minutes. It is plotted in univariate, bivariate and multivariate visualizations. From the visualizations, the subscribers take much shorter trips compared to customers on each day of the week.\n",
    "- Both subscribers and customers have relatively increased bike usage as from 8-9am and 5-6pm, which is indicative of usage of bikes during commute hours for weekdays. As for the weekend, there is an our increase of customers riding bikes as from 10am.\n",
    "- Trip duration is decreases with increase in age with much of the trip duration concentrated in the age of 25-25 years old. \n",
    "- in terms of duration , the men lag behind and female and other genders are the lead.The discovery is a little bit surprising since we expect the male to lead due to their muscular nature and stamina. "
   ]
  },
  {
   "cell_type": "markdown",
   "metadata": {},
   "source": [
    "## References\n",
    "\n",
    "- https://stackoverflow.com/questions/37625334/python-pandas-convert-month-int-to-month-name\n",
    "- https://www.kaggle.com/code/chirag02/ford-gobike-data-analysis\n",
    "- https://seaborn.pydata.org/generated/seaborn.FacetGrid.html\n",
    "- Udacity classroom tutorials, data analyst nanodegree\n",
    "- https://datagy.io/pandas-extract-date-from-datetime/\n",
    "- https://stackoverflow.com/questions/25129144/pandas-return-hour-from-datetime-column-directly"
   ]
  },
  {
   "cell_type": "code",
   "execution_count": null,
   "metadata": {},
   "outputs": [],
   "source": []
  }
 ],
 "metadata": {
  "kernelspec": {
   "display_name": "Python 3",
   "language": "python",
   "name": "python3"
  },
  "language_info": {
   "codemirror_mode": {
    "name": "ipython",
    "version": 3
   },
   "file_extension": ".py",
   "mimetype": "text/x-python",
   "name": "python",
   "nbconvert_exporter": "python",
   "pygments_lexer": "ipython3",
   "version": "3.10.4"
  }
 },
 "nbformat": 4,
 "nbformat_minor": 2
}
